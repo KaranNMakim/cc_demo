{
 "cells": [
  {
   "cell_type": "markdown",
   "id": "ee3b11f2",
   "metadata": {
    "papermill": {
     "duration": 0.043278,
     "end_time": "2022-03-22T15:01:58.126404",
     "exception": false,
     "start_time": "2022-03-22T15:01:58.083126",
     "status": "completed"
    },
    "tags": []
   },
   "source": [
    "# Introduction"
   ]
  },
  {
   "cell_type": "code",
   "execution_count": 1,
   "id": "505d8803",
   "metadata": {
    "papermill": {
     "duration": 1.379916,
     "end_time": "2022-03-22T15:01:59.542354",
     "exception": false,
     "start_time": "2022-03-22T15:01:58.162438",
     "status": "completed"
    },
    "tags": []
   },
   "outputs": [],
   "source": [
    "# Importations\n",
    "\n",
    "import pandas as pd\n",
    "import numpy as np\n",
    "\n",
    "import seaborn as sns\n",
    "import matplotlib.pyplot as plt\n",
    "%matplotlib inline\n",
    "sns.set_theme() \n",
    "\n",
    "\n",
    "from sklearn.model_selection import train_test_split\n",
    "from sklearn.preprocessing import StandardScaler\n",
    "from sklearn.metrics import  classification_report\n",
    "from sklearn.metrics import mean_squared_error, r2_score\n",
    "\n",
    "from sklearn.linear_model import LogisticRegression\n",
    "from sklearn import neighbors\n",
    "from sklearn import model_selection\n",
    "from sklearn import ensemble\n",
    "from sklearn.ensemble import GradientBoostingClassifier\n",
    "from sklearn.ensemble import VotingClassifier\n"
   ]
  },
  {
   "cell_type": "code",
   "execution_count": 2,
   "id": "ac5580c0",
   "metadata": {
    "papermill": {
     "duration": 0.080798,
     "end_time": "2022-03-22T15:01:59.660303",
     "exception": false,
     "start_time": "2022-03-22T15:01:59.579505",
     "status": "completed"
    },
    "tags": []
   },
   "outputs": [
    {
     "name": "stderr",
     "output_type": "stream",
     "text": [
      "C:\\ProgramData\\Anaconda3\\lib\\site-packages\\IPython\\core\\interactiveshell.py:3444: FutureWarning: The error_bad_lines argument has been deprecated and will be removed in a future version.\n",
      "\n",
      "\n",
      "  exec(code_obj, self.user_global_ns, self.user_ns)\n"
     ]
    }
   ],
   "source": [
    "# Upload 2 files train & test\n",
    "\n",
    "train = pd.read_csv ('../input/train.csv',\n",
    "                          sep=',', header=0, index_col=1,error_bad_lines=False)\n",
    "\n",
    "\n",
    "valid = pd.read_csv ('../input/test.csv',\n",
    "                          sep=',', header=0, index_col=1,error_bad_lines=False)\n"
   ]
  },
  {
   "cell_type": "code",
   "execution_count": 3,
   "id": "d4bdd2cf",
   "metadata": {},
   "outputs": [],
   "source": [
    "#region='France'\n",
    "region='{{cookiecutter.region}}'"
   ]
  },
  {
   "cell_type": "code",
   "execution_count": 4,
   "id": "c22bd9c8",
   "metadata": {
    "papermill": {
     "duration": 0.07506,
     "end_time": "2022-03-22T15:01:59.772782",
     "exception": false,
     "start_time": "2022-03-22T15:01:59.697722",
     "status": "completed"
    },
    "tags": []
   },
   "outputs": [
    {
     "name": "stdout",
     "output_type": "stream",
     "text": [
      "<class 'pandas.core.frame.DataFrame'>\n",
      "Int64Index: 891 entries, 1 to 891\n",
      "Data columns (total 12 columns):\n",
      " #   Column    Non-Null Count  Dtype  \n",
      "---  ------    --------------  -----  \n",
      " 0   region    891 non-null    object \n",
      " 1   Survived  891 non-null    int64  \n",
      " 2   Pclass    891 non-null    int64  \n",
      " 3   Name      891 non-null    object \n",
      " 4   Sex       891 non-null    object \n",
      " 5   Age       714 non-null    float64\n",
      " 6   SibSp     891 non-null    int64  \n",
      " 7   Parch     891 non-null    int64  \n",
      " 8   Ticket    891 non-null    object \n",
      " 9   Fare      891 non-null    float64\n",
      " 10  Cabin     204 non-null    object \n",
      " 11  Embarked  889 non-null    object \n",
      "dtypes: float64(2), int64(4), object(6)\n",
      "memory usage: 90.5+ KB\n"
     ]
    },
    {
     "data": {
      "text/html": [
       "<div>\n",
       "<style scoped>\n",
       "    .dataframe tbody tr th:only-of-type {\n",
       "        vertical-align: middle;\n",
       "    }\n",
       "\n",
       "    .dataframe tbody tr th {\n",
       "        vertical-align: top;\n",
       "    }\n",
       "\n",
       "    .dataframe thead th {\n",
       "        text-align: right;\n",
       "    }\n",
       "</style>\n",
       "<table border=\"1\" class=\"dataframe\">\n",
       "  <thead>\n",
       "    <tr style=\"text-align: right;\">\n",
       "      <th></th>\n",
       "      <th>Survived</th>\n",
       "      <th>Pclass</th>\n",
       "      <th>Name</th>\n",
       "      <th>Sex</th>\n",
       "      <th>Age</th>\n",
       "      <th>SibSp</th>\n",
       "      <th>Parch</th>\n",
       "      <th>Ticket</th>\n",
       "      <th>Fare</th>\n",
       "      <th>Cabin</th>\n",
       "      <th>Embarked</th>\n",
       "    </tr>\n",
       "    <tr>\n",
       "      <th>PassengerId</th>\n",
       "      <th></th>\n",
       "      <th></th>\n",
       "      <th></th>\n",
       "      <th></th>\n",
       "      <th></th>\n",
       "      <th></th>\n",
       "      <th></th>\n",
       "      <th></th>\n",
       "      <th></th>\n",
       "      <th></th>\n",
       "      <th></th>\n",
       "    </tr>\n",
       "  </thead>\n",
       "  <tbody>\n",
       "    <tr>\n",
       "      <th>1</th>\n",
       "      <td>0</td>\n",
       "      <td>3</td>\n",
       "      <td>Braund, Mr. Owen Harris</td>\n",
       "      <td>male</td>\n",
       "      <td>22.0</td>\n",
       "      <td>1</td>\n",
       "      <td>0</td>\n",
       "      <td>A/5 21171</td>\n",
       "      <td>7.2500</td>\n",
       "      <td>NaN</td>\n",
       "      <td>S</td>\n",
       "    </tr>\n",
       "    <tr>\n",
       "      <th>4</th>\n",
       "      <td>1</td>\n",
       "      <td>1</td>\n",
       "      <td>Futrelle, Mrs. Jacques Heath (Lily May Peel)</td>\n",
       "      <td>female</td>\n",
       "      <td>35.0</td>\n",
       "      <td>1</td>\n",
       "      <td>0</td>\n",
       "      <td>113803</td>\n",
       "      <td>53.1000</td>\n",
       "      <td>C123</td>\n",
       "      <td>S</td>\n",
       "    </tr>\n",
       "    <tr>\n",
       "      <th>7</th>\n",
       "      <td>0</td>\n",
       "      <td>1</td>\n",
       "      <td>McCarthy, Mr. Timothy J</td>\n",
       "      <td>male</td>\n",
       "      <td>54.0</td>\n",
       "      <td>0</td>\n",
       "      <td>0</td>\n",
       "      <td>17463</td>\n",
       "      <td>51.8625</td>\n",
       "      <td>E46</td>\n",
       "      <td>S</td>\n",
       "    </tr>\n",
       "    <tr>\n",
       "      <th>10</th>\n",
       "      <td>1</td>\n",
       "      <td>2</td>\n",
       "      <td>Nasser, Mrs. Nicholas (Adele Achem)</td>\n",
       "      <td>female</td>\n",
       "      <td>14.0</td>\n",
       "      <td>1</td>\n",
       "      <td>0</td>\n",
       "      <td>237736</td>\n",
       "      <td>30.0708</td>\n",
       "      <td>NaN</td>\n",
       "      <td>C</td>\n",
       "    </tr>\n",
       "    <tr>\n",
       "      <th>13</th>\n",
       "      <td>0</td>\n",
       "      <td>3</td>\n",
       "      <td>Saundercock, Mr. William Henry</td>\n",
       "      <td>male</td>\n",
       "      <td>20.0</td>\n",
       "      <td>0</td>\n",
       "      <td>0</td>\n",
       "      <td>A/5. 2151</td>\n",
       "      <td>8.0500</td>\n",
       "      <td>NaN</td>\n",
       "      <td>S</td>\n",
       "    </tr>\n",
       "  </tbody>\n",
       "</table>\n",
       "</div>"
      ],
      "text/plain": [
       "             Survived  Pclass                                          Name  \\\n",
       "PassengerId                                                                   \n",
       "1                   0       3                       Braund, Mr. Owen Harris   \n",
       "4                   1       1  Futrelle, Mrs. Jacques Heath (Lily May Peel)   \n",
       "7                   0       1                       McCarthy, Mr. Timothy J   \n",
       "10                  1       2           Nasser, Mrs. Nicholas (Adele Achem)   \n",
       "13                  0       3                Saundercock, Mr. William Henry   \n",
       "\n",
       "                Sex   Age  SibSp  Parch     Ticket     Fare Cabin Embarked  \n",
       "PassengerId                                                                 \n",
       "1              male  22.0      1      0  A/5 21171   7.2500   NaN        S  \n",
       "4            female  35.0      1      0     113803  53.1000  C123        S  \n",
       "7              male  54.0      0      0      17463  51.8625   E46        S  \n",
       "10           female  14.0      1      0     237736  30.0708   NaN        C  \n",
       "13             male  20.0      0      0  A/5. 2151   8.0500   NaN        S  "
      ]
     },
     "execution_count": 4,
     "metadata": {},
     "output_type": "execute_result"
    }
   ],
   "source": [
    "train.info()\n",
    "#train=train[train['region']=='France']\n",
    "train=train[train['region']==region]\n",
    "train.drop(['region'],axis=1,inplace=True)\n",
    "train.head()"
   ]
  },
  {
   "cell_type": "code",
   "execution_count": 5,
   "id": "8ef47119",
   "metadata": {
    "papermill": {
     "duration": 0.063897,
     "end_time": "2022-03-22T15:01:59.874143",
     "exception": false,
     "start_time": "2022-03-22T15:01:59.810246",
     "status": "completed"
    },
    "tags": []
   },
   "outputs": [
    {
     "name": "stdout",
     "output_type": "stream",
     "text": [
      "<class 'pandas.core.frame.DataFrame'>\n",
      "Int64Index: 418 entries, 892 to 1309\n",
      "Data columns (total 11 columns):\n",
      " #   Column    Non-Null Count  Dtype  \n",
      "---  ------    --------------  -----  \n",
      " 0   region    418 non-null    object \n",
      " 1   Pclass    418 non-null    int64  \n",
      " 2   Name      418 non-null    object \n",
      " 3   Sex       418 non-null    object \n",
      " 4   Age       332 non-null    float64\n",
      " 5   SibSp     418 non-null    int64  \n",
      " 6   Parch     418 non-null    int64  \n",
      " 7   Ticket    418 non-null    object \n",
      " 8   Fare      417 non-null    float64\n",
      " 9   Cabin     91 non-null     object \n",
      " 10  Embarked  418 non-null    object \n",
      "dtypes: float64(2), int64(3), object(6)\n",
      "memory usage: 39.2+ KB\n"
     ]
    },
    {
     "data": {
      "text/html": [
       "<div>\n",
       "<style scoped>\n",
       "    .dataframe tbody tr th:only-of-type {\n",
       "        vertical-align: middle;\n",
       "    }\n",
       "\n",
       "    .dataframe tbody tr th {\n",
       "        vertical-align: top;\n",
       "    }\n",
       "\n",
       "    .dataframe thead th {\n",
       "        text-align: right;\n",
       "    }\n",
       "</style>\n",
       "<table border=\"1\" class=\"dataframe\">\n",
       "  <thead>\n",
       "    <tr style=\"text-align: right;\">\n",
       "      <th></th>\n",
       "      <th>Pclass</th>\n",
       "      <th>Name</th>\n",
       "      <th>Sex</th>\n",
       "      <th>Age</th>\n",
       "      <th>SibSp</th>\n",
       "      <th>Parch</th>\n",
       "      <th>Ticket</th>\n",
       "      <th>Fare</th>\n",
       "      <th>Cabin</th>\n",
       "      <th>Embarked</th>\n",
       "    </tr>\n",
       "    <tr>\n",
       "      <th>PassengerId</th>\n",
       "      <th></th>\n",
       "      <th></th>\n",
       "      <th></th>\n",
       "      <th></th>\n",
       "      <th></th>\n",
       "      <th></th>\n",
       "      <th></th>\n",
       "      <th></th>\n",
       "      <th></th>\n",
       "      <th></th>\n",
       "    </tr>\n",
       "  </thead>\n",
       "  <tbody>\n",
       "    <tr>\n",
       "      <th>892</th>\n",
       "      <td>3</td>\n",
       "      <td>Kelly, Mr. James</td>\n",
       "      <td>male</td>\n",
       "      <td>34.5</td>\n",
       "      <td>0</td>\n",
       "      <td>0</td>\n",
       "      <td>330911</td>\n",
       "      <td>7.8292</td>\n",
       "      <td>NaN</td>\n",
       "      <td>Q</td>\n",
       "    </tr>\n",
       "    <tr>\n",
       "      <th>895</th>\n",
       "      <td>3</td>\n",
       "      <td>Wirz, Mr. Albert</td>\n",
       "      <td>male</td>\n",
       "      <td>27.0</td>\n",
       "      <td>0</td>\n",
       "      <td>0</td>\n",
       "      <td>315154</td>\n",
       "      <td>8.6625</td>\n",
       "      <td>NaN</td>\n",
       "      <td>S</td>\n",
       "    </tr>\n",
       "    <tr>\n",
       "      <th>898</th>\n",
       "      <td>3</td>\n",
       "      <td>Connolly, Miss. Kate</td>\n",
       "      <td>female</td>\n",
       "      <td>30.0</td>\n",
       "      <td>0</td>\n",
       "      <td>0</td>\n",
       "      <td>330972</td>\n",
       "      <td>7.6292</td>\n",
       "      <td>NaN</td>\n",
       "      <td>Q</td>\n",
       "    </tr>\n",
       "    <tr>\n",
       "      <th>901</th>\n",
       "      <td>3</td>\n",
       "      <td>Davies, Mr. John Samuel</td>\n",
       "      <td>male</td>\n",
       "      <td>21.0</td>\n",
       "      <td>2</td>\n",
       "      <td>0</td>\n",
       "      <td>A/4 48871</td>\n",
       "      <td>24.1500</td>\n",
       "      <td>NaN</td>\n",
       "      <td>S</td>\n",
       "    </tr>\n",
       "    <tr>\n",
       "      <th>904</th>\n",
       "      <td>1</td>\n",
       "      <td>Snyder, Mrs. John Pillsbury (Nelle Stevenson)</td>\n",
       "      <td>female</td>\n",
       "      <td>23.0</td>\n",
       "      <td>1</td>\n",
       "      <td>0</td>\n",
       "      <td>21228</td>\n",
       "      <td>82.2667</td>\n",
       "      <td>B45</td>\n",
       "      <td>S</td>\n",
       "    </tr>\n",
       "  </tbody>\n",
       "</table>\n",
       "</div>"
      ],
      "text/plain": [
       "             Pclass                                           Name     Sex  \\\n",
       "PassengerId                                                                  \n",
       "892               3                               Kelly, Mr. James    male   \n",
       "895               3                               Wirz, Mr. Albert    male   \n",
       "898               3                           Connolly, Miss. Kate  female   \n",
       "901               3                        Davies, Mr. John Samuel    male   \n",
       "904               1  Snyder, Mrs. John Pillsbury (Nelle Stevenson)  female   \n",
       "\n",
       "              Age  SibSp  Parch     Ticket     Fare Cabin Embarked  \n",
       "PassengerId                                                         \n",
       "892          34.5      0      0     330911   7.8292   NaN        Q  \n",
       "895          27.0      0      0     315154   8.6625   NaN        S  \n",
       "898          30.0      0      0     330972   7.6292   NaN        Q  \n",
       "901          21.0      2      0  A/4 48871  24.1500   NaN        S  \n",
       "904          23.0      1      0      21228  82.2667   B45        S  "
      ]
     },
     "execution_count": 5,
     "metadata": {},
     "output_type": "execute_result"
    }
   ],
   "source": [
    "valid.info()\n",
    "#valid=valid[valid['region']=='France']\n",
    "valid=valid[valid['region']==region]\n",
    "valid.drop(['region'],axis=1,inplace=True)\n",
    "valid.head()"
   ]
  },
  {
   "cell_type": "code",
   "execution_count": 6,
   "id": "80dadb5d",
   "metadata": {
    "papermill": {
     "duration": 0.047059,
     "end_time": "2022-03-22T15:01:59.959720",
     "exception": false,
     "start_time": "2022-03-22T15:01:59.912661",
     "status": "completed"
    },
    "tags": []
   },
   "outputs": [],
   "source": [
    "# We can see some missing values in both files\n"
   ]
  },
  {
   "cell_type": "code",
   "execution_count": 7,
   "id": "4d2d41b3",
   "metadata": {
    "papermill": {
     "duration": 0.053032,
     "end_time": "2022-03-22T15:02:00.050561",
     "exception": false,
     "start_time": "2022-03-22T15:01:59.997529",
     "status": "completed"
    },
    "tags": []
   },
   "outputs": [],
   "source": [
    "# We concatenate train and valid\n",
    "\n",
    "train['df']='train'\n",
    "valid['df']='valid'\n",
    "\n",
    "df = pd.concat([train,valid] , axis=0)\n"
   ]
  },
  {
   "cell_type": "code",
   "execution_count": 8,
   "id": "1bf4eaa6",
   "metadata": {
    "papermill": {
     "duration": 0.05547,
     "end_time": "2022-03-22T15:02:00.146016",
     "exception": false,
     "start_time": "2022-03-22T15:02:00.090546",
     "status": "completed"
    },
    "tags": []
   },
   "outputs": [
    {
     "name": "stdout",
     "output_type": "stream",
     "text": [
      "<class 'pandas.core.frame.DataFrame'>\n",
      "Int64Index: 437 entries, 1 to 1309\n",
      "Data columns (total 12 columns):\n",
      " #   Column    Non-Null Count  Dtype  \n",
      "---  ------    --------------  -----  \n",
      " 0   Survived  297 non-null    float64\n",
      " 1   Pclass    437 non-null    int64  \n",
      " 2   Name      437 non-null    object \n",
      " 3   Sex       437 non-null    object \n",
      " 4   Age       353 non-null    float64\n",
      " 5   SibSp     437 non-null    int64  \n",
      " 6   Parch     437 non-null    int64  \n",
      " 7   Ticket    437 non-null    object \n",
      " 8   Fare      437 non-null    float64\n",
      " 9   Cabin     90 non-null     object \n",
      " 10  Embarked  437 non-null    object \n",
      " 11  df        437 non-null    object \n",
      "dtypes: float64(3), int64(3), object(6)\n",
      "memory usage: 44.4+ KB\n"
     ]
    }
   ],
   "source": [
    "df.info()\n",
    "\n"
   ]
  },
  {
   "cell_type": "code",
   "execution_count": 9,
   "id": "7444887c",
   "metadata": {
    "papermill": {
     "duration": 0.047037,
     "end_time": "2022-03-22T15:02:00.233783",
     "exception": false,
     "start_time": "2022-03-22T15:02:00.186746",
     "status": "completed"
    },
    "tags": []
   },
   "outputs": [],
   "source": [
    "\n",
    "# We cand drop 3 features : Cabin,Name and Ticket\n",
    "\n",
    "df = df.drop(['Cabin', 'Name','Ticket'], axis=1)"
   ]
  },
  {
   "cell_type": "markdown",
   "id": "1743464d",
   "metadata": {
    "papermill": {
     "duration": 0.038355,
     "end_time": "2022-03-22T15:02:00.311025",
     "exception": false,
     "start_time": "2022-03-22T15:02:00.272670",
     "status": "completed"
    },
    "tags": []
   },
   "source": [
    "# Statistiques"
   ]
  },
  {
   "cell_type": "code",
   "execution_count": 10,
   "id": "cc8235de",
   "metadata": {
    "papermill": {
     "duration": 0.055493,
     "end_time": "2022-03-22T15:02:00.404872",
     "exception": false,
     "start_time": "2022-03-22T15:02:00.349379",
     "status": "completed"
    },
    "tags": []
   },
   "outputs": [
    {
     "name": "stdout",
     "output_type": "stream",
     "text": [
      "Age : count    353.000000\n",
      "mean      30.333314\n",
      "std       14.728022\n",
      "min        0.170000\n",
      "25%       21.000000\n",
      "50%       28.000000\n",
      "75%       38.000000\n",
      "max       80.000000\n",
      "Name: Age, dtype: float64\n",
      "Fare : count    437.000000\n",
      "mean      32.162452\n",
      "std       49.878493\n",
      "min        0.000000\n",
      "25%        7.895800\n",
      "50%       13.000000\n",
      "75%       27.900000\n",
      "max      512.329200\n",
      "Name: Fare, dtype: float64\n"
     ]
    }
   ],
   "source": [
    "# NUM\n",
    "\n",
    "num_col=['Age','Fare']\n",
    "for col in num_col :  \n",
    "    print(col, \":\", df[col].describe())\n"
   ]
  },
  {
   "cell_type": "code",
   "execution_count": 11,
   "id": "e933936d",
   "metadata": {
    "papermill": {
     "duration": 0.060901,
     "end_time": "2022-03-22T15:02:00.504579",
     "exception": false,
     "start_time": "2022-03-22T15:02:00.443678",
     "status": "completed"
    },
    "tags": []
   },
   "outputs": [
    {
     "name": "stdout",
     "output_type": "stream",
     "text": [
      "Survived : 0.0    184\n",
      "1.0    113\n",
      "Name: Survived, dtype: int64\n",
      "Pclass : 3    246\n",
      "2     96\n",
      "1     95\n",
      "Name: Pclass, dtype: int64\n",
      "Sex : male      268\n",
      "female    169\n",
      "Name: Sex, dtype: int64\n",
      "SibSp : 0    310\n",
      "1     98\n",
      "2     12\n",
      "8      7\n",
      "3      6\n",
      "4      3\n",
      "5      1\n",
      "Name: SibSp, dtype: int64\n",
      "Parch : 0    348\n",
      "2     42\n",
      "1     35\n",
      "4      5\n",
      "3      3\n",
      "5      2\n",
      "6      1\n",
      "9      1\n",
      "Name: Parch, dtype: int64\n",
      "Embarked : S    310\n",
      "C     85\n",
      "Q     42\n",
      "Name: Embarked, dtype: int64\n",
      "df : train    297\n",
      "valid    140\n",
      "Name: df, dtype: int64\n"
     ]
    }
   ],
   "source": [
    "# CAT\n",
    "\n",
    "for col in df.columns : \n",
    "    if col not in num_col : \n",
    "        print(col, \":\", df[col].value_counts())"
   ]
  },
  {
   "cell_type": "code",
   "execution_count": 12,
   "id": "0769fa3e",
   "metadata": {
    "papermill": {
     "duration": 0.05357,
     "end_time": "2022-03-22T15:02:00.597804",
     "exception": false,
     "start_time": "2022-03-22T15:02:00.544234",
     "status": "completed"
    },
    "tags": []
   },
   "outputs": [
    {
     "name": "stdout",
     "output_type": "stream",
     "text": [
      "<class 'pandas.core.frame.DataFrame'>\n",
      "Int64Index: 437 entries, 1 to 1309\n",
      "Data columns (total 9 columns):\n",
      " #   Column    Non-Null Count  Dtype  \n",
      "---  ------    --------------  -----  \n",
      " 0   Survived  297 non-null    float64\n",
      " 1   Pclass    437 non-null    int64  \n",
      " 2   Sex       437 non-null    object \n",
      " 3   Age       353 non-null    float64\n",
      " 4   SibSp     437 non-null    int64  \n",
      " 5   Parch     437 non-null    int64  \n",
      " 6   Fare      437 non-null    float64\n",
      " 7   Embarked  437 non-null    object \n",
      " 8   df        437 non-null    object \n",
      "dtypes: float64(3), int64(3), object(3)\n",
      "memory usage: 34.1+ KB\n"
     ]
    }
   ],
   "source": [
    "df.info()"
   ]
  },
  {
   "cell_type": "code",
   "execution_count": 13,
   "id": "cfc87534",
   "metadata": {
    "papermill": {
     "duration": 0.24017,
     "end_time": "2022-03-22T15:02:00.877754",
     "exception": false,
     "start_time": "2022-03-22T15:02:00.637584",
     "status": "completed"
    },
    "tags": []
   },
   "outputs": [
    {
     "data": {
      "image/png": "[encoded data removed]",
      "text/plain": [
       "<Figure size 432x288 with 1 Axes>"
      ]
     },
     "metadata": {},
     "output_type": "display_data"
    }
   ],
   "source": [
    "p=sns.countplot(x='Survived',  data=train)\n",
    "p.set(title = \"Variable survival \"+region)\n",
    "plt.gcf().savefig('../../../output/survival.png')\n",
    "plt.show(block=False)"
   ]
  },
  {
   "cell_type": "code",
   "execution_count": 14,
   "id": "fdad9640",
   "metadata": {
    "papermill": {
     "duration": 0.459365,
     "end_time": "2022-03-22T15:02:01.379801",
     "exception": false,
     "start_time": "2022-03-22T15:02:00.920436",
     "status": "completed"
    },
    "tags": []
   },
   "outputs": [
    {
     "data": {
      "image/png": "[encoded data removed]",
      "text/plain": [
       "<Figure size 360x360 with 1 Axes>"
      ]
     },
     "metadata": {},
     "output_type": "display_data"
    }
   ],
   "source": [
    "# Distribution of Age\n",
    "\n",
    "p=sns.displot(df['Age'], bins=15, kind='hist', kde=1)\n",
    "p.set(title = \"Distribution of the variable age \"+region)\n",
    "plt.gcf().savefig('../../../output/age_hist.png')\n",
    "plt.show(block=False)"
   ]
  },
  {
   "cell_type": "code",
   "execution_count": 15,
   "id": "9a5fe218",
   "metadata": {
    "papermill": {
     "duration": 0.248456,
     "end_time": "2022-03-22T15:02:01.673103",
     "exception": false,
     "start_time": "2022-03-22T15:02:01.424647",
     "status": "completed"
    },
    "tags": []
   },
   "outputs": [
    {
     "data": {
      "image/png": "[encoded data removed]",
      "text/plain": [
       "<Figure size 432x288 with 1 Axes>"
      ]
     },
     "metadata": {},
     "output_type": "display_data"
    }
   ],
   "source": [
    "\n",
    "p=sns.boxplot( y='Age', x='Survived', data=df)\n",
    "p.set(title = \"Age distribution as a function of survival \"+region)\n",
    "plt.gcf().savefig('../../../output/age_survival.png')\n",
    "plt.show(block=False)"
   ]
  },
  {
   "cell_type": "code",
   "execution_count": 16,
   "id": "b6dec38b",
   "metadata": {
    "papermill": {
     "duration": 0.255541,
     "end_time": "2022-03-22T15:02:01.971499",
     "exception": false,
     "start_time": "2022-03-22T15:02:01.715958",
     "status": "completed"
    },
    "tags": []
   },
   "outputs": [
    {
     "data": {
      "image/png": "[encoded data removed]",
      "text/plain": [
       "<Figure size 432x288 with 1 Axes>"
      ]
     },
     "metadata": {},
     "output_type": "display_data"
    }
   ],
   "source": [
    "sns.countplot(x='Pclass', hue='Survived', data=df)\n",
    "p.set(title = \"Crossing between class and survival \"+region)\n",
    "plt.gcf().savefig('../../../output/class_survival.png')\n",
    "plt.show(block=False)"
   ]
  },
  {
   "cell_type": "code",
   "execution_count": 17,
   "id": "eae6d309",
   "metadata": {
    "papermill": {
     "duration": 0.233516,
     "end_time": "2022-03-22T15:02:02.248863",
     "exception": false,
     "start_time": "2022-03-22T15:02:02.015347",
     "status": "completed"
    },
    "tags": []
   },
   "outputs": [
    {
     "data": {
      "image/png": "[encoded data removed]",
      "text/plain": [
       "<Figure size 432x288 with 1 Axes>"
      ]
     },
     "metadata": {},
     "output_type": "display_data"
    }
   ],
   "source": [
    "sns.countplot(x='Sex', hue='Survived', data=df)\n",
    "p.set(title = \"Cross between gender and survival \"+region)\n",
    "plt.gcf().savefig('../../../output/gender_survival.png')\n",
    "plt.show(block=False)"
   ]
  },
  {
   "cell_type": "code",
   "execution_count": 18,
   "id": "362885f7",
   "metadata": {
    "papermill": {
     "duration": 0.259441,
     "end_time": "2022-03-22T15:02:02.551967",
     "exception": false,
     "start_time": "2022-03-22T15:02:02.292526",
     "status": "completed"
    },
    "tags": []
   },
   "outputs": [
    {
     "data": {
      "image/png": "[encoded data removed]",
      "text/plain": [
       "<Figure size 432x288 with 1 Axes>"
      ]
     },
     "metadata": {},
     "output_type": "display_data"
    }
   ],
   "source": [
    "sns.countplot(x='Embarked', hue='Survived', data=train)\n",
    "p.set(title = \"Crossing between embarkation and survival \"+region)\n",
    "plt.gcf().savefig('../../../output/embark_survival.png')\n",
    "plt.show(block=False)"
   ]
  },
  {
   "cell_type": "markdown",
   "id": "77bea1b4",
   "metadata": {
    "papermill": {
     "duration": 0.045001,
     "end_time": "2022-03-22T15:02:02.641978",
     "exception": false,
     "start_time": "2022-03-22T15:02:02.596977",
     "status": "completed"
    },
    "tags": []
   },
   "source": [
    "# Preprocessing"
   ]
  },
  {
   "cell_type": "code",
   "execution_count": 19,
   "id": "df7c9e08",
   "metadata": {
    "papermill": {
     "duration": 0.055648,
     "end_time": "2022-03-22T15:02:02.742777",
     "exception": false,
     "start_time": "2022-03-22T15:02:02.687129",
     "status": "completed"
    },
    "tags": []
   },
   "outputs": [],
   "source": [
    "# Fill missing values : \n",
    "\n",
    "# AGE : on remplace par la moyenne\n",
    "df['Age'].replace( { np.NaN : df['Age'].median() } , inplace=True)\n",
    "\n",
    "\n",
    "# EMBARKED : par le mode\n",
    "df['Embarked'].replace( { np.NaN :df['Embarked'].mode()[0] } , inplace=True)\n",
    "\n",
    "\n",
    "# Fare : moyenne\n",
    "df['Fare'].replace( { np.NaN : df['Fare'].median() } , inplace=True)\n"
   ]
  },
  {
   "cell_type": "code",
   "execution_count": 20,
   "id": "e2220205",
   "metadata": {
    "papermill": {
     "duration": 0.059146,
     "end_time": "2022-03-22T15:02:02.847515",
     "exception": false,
     "start_time": "2022-03-22T15:02:02.788369",
     "status": "completed"
    },
    "tags": []
   },
   "outputs": [
    {
     "name": "stdout",
     "output_type": "stream",
     "text": [
      "<class 'pandas.core.frame.DataFrame'>\n",
      "Int64Index: 437 entries, 1 to 1309\n",
      "Data columns (total 9 columns):\n",
      " #   Column    Non-Null Count  Dtype  \n",
      "---  ------    --------------  -----  \n",
      " 0   Survived  297 non-null    float64\n",
      " 1   Pclass    437 non-null    int64  \n",
      " 2   Sex       437 non-null    object \n",
      " 3   Age       437 non-null    float64\n",
      " 4   SibSp     437 non-null    int64  \n",
      " 5   Parch     437 non-null    int64  \n",
      " 6   Fare      437 non-null    float64\n",
      " 7   Embarked  437 non-null    object \n",
      " 8   df        437 non-null    object \n",
      "dtypes: float64(3), int64(3), object(3)\n",
      "memory usage: 50.3+ KB\n"
     ]
    }
   ],
   "source": [
    "df.info()"
   ]
  },
  {
   "cell_type": "code",
   "execution_count": 21,
   "id": "eb903810",
   "metadata": {
    "papermill": {
     "duration": 0.062734,
     "end_time": "2022-03-22T15:02:02.957035",
     "exception": false,
     "start_time": "2022-03-22T15:02:02.894301",
     "status": "completed"
    },
    "tags": []
   },
   "outputs": [
    {
     "data": {
      "text/plain": [
       "(437, 13)"
      ]
     },
     "execution_count": 21,
     "metadata": {},
     "output_type": "execute_result"
    }
   ],
   "source": [
    "# Get Dummy\n",
    "\n",
    "df_discret = pd.get_dummies(data = df )\n",
    "\n",
    "df_discret.shape"
   ]
  },
  {
   "cell_type": "code",
   "execution_count": 22,
   "id": "da1f75dc",
   "metadata": {
    "papermill": {
     "duration": 0.064662,
     "end_time": "2022-03-22T15:02:03.067760",
     "exception": false,
     "start_time": "2022-03-22T15:02:03.003098",
     "status": "completed"
    },
    "tags": []
   },
   "outputs": [
    {
     "data": {
      "text/html": [
       "<div>\n",
       "<style scoped>\n",
       "    .dataframe tbody tr th:only-of-type {\n",
       "        vertical-align: middle;\n",
       "    }\n",
       "\n",
       "    .dataframe tbody tr th {\n",
       "        vertical-align: top;\n",
       "    }\n",
       "\n",
       "    .dataframe thead th {\n",
       "        text-align: right;\n",
       "    }\n",
       "</style>\n",
       "<table border=\"1\" class=\"dataframe\">\n",
       "  <thead>\n",
       "    <tr style=\"text-align: right;\">\n",
       "      <th></th>\n",
       "      <th>Survived</th>\n",
       "      <th>Pclass</th>\n",
       "      <th>Age</th>\n",
       "      <th>SibSp</th>\n",
       "      <th>Parch</th>\n",
       "      <th>Fare</th>\n",
       "      <th>Sex_female</th>\n",
       "      <th>Sex_male</th>\n",
       "      <th>Embarked_C</th>\n",
       "      <th>Embarked_Q</th>\n",
       "      <th>Embarked_S</th>\n",
       "      <th>df_train</th>\n",
       "      <th>df_valid</th>\n",
       "    </tr>\n",
       "    <tr>\n",
       "      <th>PassengerId</th>\n",
       "      <th></th>\n",
       "      <th></th>\n",
       "      <th></th>\n",
       "      <th></th>\n",
       "      <th></th>\n",
       "      <th></th>\n",
       "      <th></th>\n",
       "      <th></th>\n",
       "      <th></th>\n",
       "      <th></th>\n",
       "      <th></th>\n",
       "      <th></th>\n",
       "      <th></th>\n",
       "    </tr>\n",
       "  </thead>\n",
       "  <tbody>\n",
       "    <tr>\n",
       "      <th>1</th>\n",
       "      <td>0.0</td>\n",
       "      <td>3</td>\n",
       "      <td>22.0</td>\n",
       "      <td>1</td>\n",
       "      <td>0</td>\n",
       "      <td>7.2500</td>\n",
       "      <td>0</td>\n",
       "      <td>1</td>\n",
       "      <td>0</td>\n",
       "      <td>0</td>\n",
       "      <td>1</td>\n",
       "      <td>1</td>\n",
       "      <td>0</td>\n",
       "    </tr>\n",
       "    <tr>\n",
       "      <th>4</th>\n",
       "      <td>1.0</td>\n",
       "      <td>1</td>\n",
       "      <td>35.0</td>\n",
       "      <td>1</td>\n",
       "      <td>0</td>\n",
       "      <td>53.1000</td>\n",
       "      <td>1</td>\n",
       "      <td>0</td>\n",
       "      <td>0</td>\n",
       "      <td>0</td>\n",
       "      <td>1</td>\n",
       "      <td>1</td>\n",
       "      <td>0</td>\n",
       "    </tr>\n",
       "    <tr>\n",
       "      <th>7</th>\n",
       "      <td>0.0</td>\n",
       "      <td>1</td>\n",
       "      <td>54.0</td>\n",
       "      <td>0</td>\n",
       "      <td>0</td>\n",
       "      <td>51.8625</td>\n",
       "      <td>0</td>\n",
       "      <td>1</td>\n",
       "      <td>0</td>\n",
       "      <td>0</td>\n",
       "      <td>1</td>\n",
       "      <td>1</td>\n",
       "      <td>0</td>\n",
       "    </tr>\n",
       "    <tr>\n",
       "      <th>10</th>\n",
       "      <td>1.0</td>\n",
       "      <td>2</td>\n",
       "      <td>14.0</td>\n",
       "      <td>1</td>\n",
       "      <td>0</td>\n",
       "      <td>30.0708</td>\n",
       "      <td>1</td>\n",
       "      <td>0</td>\n",
       "      <td>1</td>\n",
       "      <td>0</td>\n",
       "      <td>0</td>\n",
       "      <td>1</td>\n",
       "      <td>0</td>\n",
       "    </tr>\n",
       "    <tr>\n",
       "      <th>13</th>\n",
       "      <td>0.0</td>\n",
       "      <td>3</td>\n",
       "      <td>20.0</td>\n",
       "      <td>0</td>\n",
       "      <td>0</td>\n",
       "      <td>8.0500</td>\n",
       "      <td>0</td>\n",
       "      <td>1</td>\n",
       "      <td>0</td>\n",
       "      <td>0</td>\n",
       "      <td>1</td>\n",
       "      <td>1</td>\n",
       "      <td>0</td>\n",
       "    </tr>\n",
       "  </tbody>\n",
       "</table>\n",
       "</div>"
      ],
      "text/plain": [
       "             Survived  Pclass   Age  SibSp  Parch     Fare  Sex_female  \\\n",
       "PassengerId                                                              \n",
       "1                 0.0       3  22.0      1      0   7.2500           0   \n",
       "4                 1.0       1  35.0      1      0  53.1000           1   \n",
       "7                 0.0       1  54.0      0      0  51.8625           0   \n",
       "10                1.0       2  14.0      1      0  30.0708           1   \n",
       "13                0.0       3  20.0      0      0   8.0500           0   \n",
       "\n",
       "             Sex_male  Embarked_C  Embarked_Q  Embarked_S  df_train  df_valid  \n",
       "PassengerId                                                                    \n",
       "1                   1           0           0           1         1         0  \n",
       "4                   0           0           0           1         1         0  \n",
       "7                   1           0           0           1         1         0  \n",
       "10                  0           1           0           0         1         0  \n",
       "13                  1           0           0           1         1         0  "
      ]
     },
     "execution_count": 22,
     "metadata": {},
     "output_type": "execute_result"
    }
   ],
   "source": [
    "df_discret.head()"
   ]
  },
  {
   "cell_type": "code",
   "execution_count": 23,
   "id": "d932d252",
   "metadata": {
    "papermill": {
     "duration": 0.06287,
     "end_time": "2022-03-22T15:02:03.178338",
     "exception": false,
     "start_time": "2022-03-22T15:02:03.115468",
     "status": "completed"
    },
    "tags": []
   },
   "outputs": [
    {
     "name": "stdout",
     "output_type": "stream",
     "text": [
      "(297, 13)\n",
      "(140, 13)\n"
     ]
    }
   ],
   "source": [
    "# We split the 2 dataframes\n",
    "\n",
    "\n",
    "train2 = df_discret[df_discret['df_train']==1]\n",
    "valid2 = df_discret[df_discret['df_valid']==1]\n",
    "\n",
    "\n",
    "print(train2.shape)\n",
    "print(valid2.shape)"
   ]
  },
  {
   "cell_type": "code",
   "execution_count": 24,
   "id": "355d00d7",
   "metadata": {
    "papermill": {
     "duration": 0.055979,
     "end_time": "2022-03-22T15:02:03.281959",
     "exception": false,
     "start_time": "2022-03-22T15:02:03.225980",
     "status": "completed"
    },
    "tags": []
   },
   "outputs": [],
   "source": [
    "# We drop these columns\n",
    "\n",
    "\n",
    "train2 = train2.drop(['df_train', 'df_valid'], axis=1)\n",
    "\n",
    "valid2 = valid2.drop(['df_train', 'df_valid','Survived'], axis=1)"
   ]
  },
  {
   "cell_type": "code",
   "execution_count": 25,
   "id": "92d1b4a4",
   "metadata": {
    "papermill": {
     "duration": 0.058031,
     "end_time": "2022-03-22T15:02:03.388775",
     "exception": false,
     "start_time": "2022-03-22T15:02:03.330744",
     "status": "completed"
    },
    "tags": []
   },
   "outputs": [],
   "source": [
    "# Train test split\n",
    "\n",
    "target = train2['Survived']\n",
    "features= train2.drop('Survived', axis=1)\n",
    "\n",
    "X_train, X_test, y_train, y_test = train_test_split(features, target,stratify=target, test_size = 0.2, random_state=50)\n"
   ]
  },
  {
   "cell_type": "code",
   "execution_count": 26,
   "id": "5fceae3a",
   "metadata": {
    "papermill": {
     "duration": 0.061255,
     "end_time": "2022-03-22T15:02:03.497403",
     "exception": false,
     "start_time": "2022-03-22T15:02:03.436148",
     "status": "completed"
    },
    "tags": []
   },
   "outputs": [],
   "source": [
    "# StandardScaler\n",
    "\n",
    "scaler= StandardScaler()\n",
    "\n",
    "X_train_scaled  = scaler.fit_transform (X_train)\n",
    "\n",
    "X_test_scaled = scaler.transform ( X_test)\n",
    "\n",
    "valid_scaled = scaler.transform ( valid2)"
   ]
  },
  {
   "cell_type": "markdown",
   "id": "0bc0eaec",
   "metadata": {
    "papermill": {
     "duration": 0.047292,
     "end_time": "2022-03-22T15:02:03.592200",
     "exception": false,
     "start_time": "2022-03-22T15:02:03.544908",
     "status": "completed"
    },
    "tags": []
   },
   "source": [
    "# Creation of 4 models\n"
   ]
  },
  {
   "cell_type": "code",
   "execution_count": 27,
   "id": "0279d213",
   "metadata": {
    "papermill": {
     "duration": 0.08308,
     "end_time": "2022-03-22T15:02:03.723267",
     "exception": false,
     "start_time": "2022-03-22T15:02:03.640187",
     "status": "completed"
    },
    "tags": []
   },
   "outputs": [
    {
     "name": "stdout",
     "output_type": "stream",
     "text": [
      "Results on test\n",
      "Prediction  0.0  1.0\n",
      "Truth               \n",
      "0.0          32    5\n",
      "1.0           6   17\n",
      "              precision    recall  f1-score   support\n",
      "\n",
      "         0.0       0.84      0.86      0.85        37\n",
      "         1.0       0.77      0.74      0.76        23\n",
      "\n",
      "    accuracy                           0.82        60\n",
      "   macro avg       0.81      0.80      0.80        60\n",
      "weighted avg       0.82      0.82      0.82        60\n",
      "\n"
     ]
    }
   ],
   "source": [
    "# Logistic Regression\n",
    "\n",
    "clf_lr= LogisticRegression().fit(X_train_scaled,y_train)\n",
    "\n",
    "y_pred_test_lr = clf_lr.predict(X_test_scaled)\n",
    "\n",
    "\n",
    "print(\"Results on test\")\n",
    "print(pd.crosstab(y_test, y_pred_test_lr, rownames=['Truth'], colnames=['Prediction']))\n",
    "print (classification_report(y_test, y_pred_test_lr))\n"
   ]
  },
  {
   "cell_type": "code",
   "execution_count": 28,
   "id": "b46e7cc0",
   "metadata": {
    "papermill": {
     "duration": 0.08726,
     "end_time": "2022-03-22T15:02:03.860113",
     "exception": false,
     "start_time": "2022-03-22T15:02:03.772853",
     "status": "completed"
    },
    "tags": []
   },
   "outputs": [
    {
     "name": "stdout",
     "output_type": "stream",
     "text": [
      "Results on test\n",
      "Prediction  0.0  1.0\n",
      "Truth               \n",
      "0.0          32    5\n",
      "1.0           6   17\n",
      "              precision    recall  f1-score   support\n",
      "\n",
      "         0.0       0.84      0.86      0.85        37\n",
      "         1.0       0.77      0.74      0.76        23\n",
      "\n",
      "    accuracy                           0.82        60\n",
      "   macro avg       0.81      0.80      0.80        60\n",
      "weighted avg       0.82      0.82      0.82        60\n",
      "\n"
     ]
    }
   ],
   "source": [
    "# KNN (5 Neighbors)\n",
    "\n",
    "knn =  neighbors.KNeighborsClassifier()\n",
    "\n",
    "knn.fit(X_train_scaled,y_train)\n",
    "\n",
    "y_pred_test_knn = knn.predict(X_test_scaled)\n",
    "\n",
    "print(\"Results on test\")\n",
    "print(pd.crosstab(y_test, y_pred_test_knn, rownames=['Truth'], colnames=['Prediction']))\n",
    "print (classification_report(y_test, y_pred_test_knn))"
   ]
  },
  {
   "cell_type": "code",
   "execution_count": 29,
   "id": "fccf37ce",
   "metadata": {
    "papermill": {
     "duration": 0.294618,
     "end_time": "2022-03-22T15:02:04.204959",
     "exception": false,
     "start_time": "2022-03-22T15:02:03.910341",
     "status": "completed"
    },
    "tags": []
   },
   "outputs": [
    {
     "name": "stdout",
     "output_type": "stream",
     "text": [
      "Results on test\n",
      "Prediction  0.0  1.0\n",
      "Truth               \n",
      "0.0          31    6\n",
      "1.0           6   17\n",
      "              precision    recall  f1-score   support\n",
      "\n",
      "         0.0       0.84      0.84      0.84        37\n",
      "         1.0       0.74      0.74      0.74        23\n",
      "\n",
      "    accuracy                           0.80        60\n",
      "   macro avg       0.79      0.79      0.79        60\n",
      "weighted avg       0.80      0.80      0.80        60\n",
      "\n"
     ]
    }
   ],
   "source": [
    "# Random Forest (100 trees)\n",
    " \n",
    "rf = ensemble.RandomForestClassifier()\n",
    "\n",
    "rf.fit(X_train_scaled,y_train)\n",
    "\n",
    "y_pred_test_rf = rf.predict(X_test_scaled)\n",
    "\n",
    "print(\"Results on test\")\n",
    "print(pd.crosstab(y_test, y_pred_test_rf, rownames=['Truth'], colnames=['Prediction']))\n",
    "print (classification_report(y_test, y_pred_test_rf))\n"
   ]
  },
  {
   "cell_type": "code",
   "execution_count": 30,
   "id": "b78877bc",
   "metadata": {
    "papermill": {
     "duration": 0.182326,
     "end_time": "2022-03-22T15:02:04.435914",
     "exception": false,
     "start_time": "2022-03-22T15:02:04.253588",
     "status": "completed"
    },
    "tags": []
   },
   "outputs": [
    {
     "name": "stdout",
     "output_type": "stream",
     "text": [
      "Results on test\n",
      "Prediction  0.0  1.0\n",
      "Truth               \n",
      "0.0          32    5\n",
      "1.0           6   17\n",
      "              precision    recall  f1-score   support\n",
      "\n",
      "         0.0       0.84      0.86      0.85        37\n",
      "         1.0       0.77      0.74      0.76        23\n",
      "\n",
      "    accuracy                           0.82        60\n",
      "   macro avg       0.81      0.80      0.80        60\n",
      "weighted avg       0.82      0.82      0.82        60\n",
      "\n"
     ]
    }
   ],
   "source": [
    "# GradientBoostingClassifier ( 100 estimators)\n",
    "\n",
    "clf = GradientBoostingClassifier()\n",
    "\n",
    "clf.fit(X_train_scaled,y_train)\n",
    "\n",
    "y_pred_test_gbc = clf.predict(X_test_scaled)\n",
    "\n",
    "print(\"Results on test\")\n",
    "print(pd.crosstab(y_test, y_pred_test_gbc, rownames=['Truth'], colnames=['Prediction']))\n",
    "print (classification_report(y_test, y_pred_test_gbc))\n"
   ]
  },
  {
   "cell_type": "code",
   "execution_count": 31,
   "id": "6453a1a0",
   "metadata": {
    "papermill": {
     "duration": 0.411221,
     "end_time": "2022-03-22T15:02:04.897830",
     "exception": false,
     "start_time": "2022-03-22T15:02:04.486609",
     "status": "completed"
    },
    "tags": []
   },
   "outputs": [
    {
     "name": "stdout",
     "output_type": "stream",
     "text": [
      "Prediction  0.0  1.0\n",
      "Truth               \n",
      "0.0          33    4\n",
      "1.0           6   17\n",
      "              precision    recall  f1-score   support\n",
      "\n",
      "         0.0       0.85      0.89      0.87        37\n",
      "         1.0       0.81      0.74      0.77        23\n",
      "\n",
      "    accuracy                           0.83        60\n",
      "   macro avg       0.83      0.82      0.82        60\n",
      "weighted avg       0.83      0.83      0.83        60\n",
      "\n"
     ]
    }
   ],
   "source": [
    "# Maybe we can improve the performance with a Voting classifier combining  the 4 models\n",
    "\n",
    "\n",
    "vc = VotingClassifier([('lr', clf_lr),('knn', knn), ('rf', rf), ('clf', clf)])\n",
    "\n",
    "vc.fit(X_train_scaled,y_train)\n",
    "\n",
    "y_pred_test_vc = vc.predict(X_test_scaled)\n",
    "\n",
    "print(pd.crosstab(y_test, y_pred_test_vc, rownames=['Truth'], colnames=['Prediction']))\n",
    "print (classification_report(y_test, y_pred_test_vc))"
   ]
  },
  {
   "cell_type": "markdown",
   "id": "0384321d",
   "metadata": {
    "papermill": {
     "duration": 0.048356,
     "end_time": "2022-03-22T15:02:04.994617",
     "exception": false,
     "start_time": "2022-03-22T15:02:04.946261",
     "status": "completed"
    },
    "tags": []
   },
   "source": [
    "# Conclusion"
   ]
  },
  {
   "cell_type": "code",
   "execution_count": 32,
   "id": "699a49a1",
   "metadata": {
    "papermill": {
     "duration": 0.112933,
     "end_time": "2022-03-22T15:02:05.155739",
     "exception": false,
     "start_time": "2022-03-22T15:02:05.042806",
     "status": "completed"
    },
    "tags": []
   },
   "outputs": [
    {
     "name": "stdout",
     "output_type": "stream",
     "text": [
      "Score - régression logistique : 0.8166666666666667\n",
      "Score - KNN : 0.8166666666666667\n",
      "Score - random forest : 0.8\n",
      "Score - gradient boosting classifier: 0.8166666666666667\n",
      "Score - voting classifier : 0.8333333333333334\n"
     ]
    }
   ],
   "source": [
    "\n",
    "print(\"Score - régression logistique :\",clf_lr.score(X_test_scaled, y_test))\n",
    "print(\"Score - KNN :\",knn.score(X_test_scaled, y_test))\n",
    "print(\"Score - random forest :\",rf.score(X_test_scaled, y_test))\n",
    "print(\"Score - gradient boosting classifier:\",clf.score(X_test_scaled, y_test))\n",
    "print(\"Score - voting classifier :\",vc.score(X_test_scaled, y_test))\n",
    "\n",
    "\n"
   ]
  },
  {
   "cell_type": "markdown",
   "id": "91d9007a",
   "metadata": {
    "papermill": {
     "duration": 0.048151,
     "end_time": "2022-03-22T15:02:05.252895",
     "exception": false,
     "start_time": "2022-03-22T15:02:05.204744",
     "status": "completed"
    },
    "tags": []
   },
   "source": [
    "# Kaggle Submission "
   ]
  },
  {
   "cell_type": "code",
   "execution_count": 33,
   "id": "1e283120",
   "metadata": {
    "papermill": {
     "duration": 0.10592,
     "end_time": "2022-03-22T15:02:05.406638",
     "exception": false,
     "start_time": "2022-03-22T15:02:05.300718",
     "status": "completed"
    },
    "tags": []
   },
   "outputs": [
    {
     "name": "stdout",
     "output_type": "stream",
     "text": [
      "The new directory is created!\n",
      "Saved file: ../output/France/Titanic Predictions vc 2022-03-30_02_49_41_882956.csv\n"
     ]
    }
   ],
   "source": [
    "prediction_final = vc.predict(valid_scaled)\n",
    "valid2['Survived']=prediction_final\n",
    "valid2['Survived']=valid2['Survived'].astype('int64')\n",
    "valid2=valid2.reset_index()\n",
    "\n",
    "\n",
    "submission = pd.DataFrame({'PassengerId':valid2['PassengerId'],'Survived':valid2['Survived']})\n",
    "\n",
    "import datetime;\n",
    "  \n",
    "# ct stores current time\n",
    "ct = datetime.datetime.now()\n",
    "\n",
    "ct=str(ct)\n",
    "\n",
    "ct=ct.replace(' ','_')\n",
    "ct=ct.replace('.','_')\n",
    "ct=ct.replace(':','_')\n",
    "\n",
    "\n",
    "import os\n",
    "\n",
    "path = '../output/'+region\n",
    "\n",
    "# Check whether the specified path exists or not\n",
    "isExist = os.path.exists(path)\n",
    "\n",
    "if not isExist:\n",
    "  \n",
    "  # Create a new directory because it does not exist \n",
    "  os.makedirs(path)\n",
    "  print(\"The new directory is created!\")\n",
    "\n",
    "#Convert DataFrame to a csv file that can be uploaded\n",
    "#This is saved in the same directory as your notebook\n",
    "filename = path+'/Titanic Predictions vc '+str(ct)+'.csv'\n",
    "\n",
    "submission.to_csv(filename,index=False)\n",
    "\n",
    "print('Saved file: ' + filename)\n",
    "\n"
   ]
  },
  {
   "cell_type": "code",
   "execution_count": 34,
   "id": "9a1df566",
   "metadata": {},
   "outputs": [],
   "source": [
    "valid2.to_csv('../../../output/output.csv',index=False)"
   ]
  },
  {
   "cell_type": "code",
   "execution_count": null,
   "id": "29d57586-af50-41b9-b12c-fc5c7bf16f44",
   "metadata": {},
   "outputs": [],
   "source": []
  }
 ],
 "metadata": {
  "kernelspec": {
   "display_name": "Python 3 (ipykernel)",
   "language": "python",
   "name": "python3"
  },
  "language_info": {
   "codemirror_mode": {
    "name": "ipython",
    "version": 3
   },
   "file_extension": ".py",
   "mimetype": "text/x-python",
   "name": "python",
   "nbconvert_exporter": "python",
   "pygments_lexer": "ipython3",
   "version": "3.9.7"
  },
  "papermill": {
   "default_parameters": {},
   "duration": 17.288909,
   "end_time": "2022-03-22T15:02:06.169131",
   "environment_variables": {},
   "exception": null,
   "input_path": "__notebook__.ipynb",
   "output_path": "__notebook__.ipynb",
   "parameters": {},
   "start_time": "2022-03-22T15:01:48.880222",
   "version": "2.3.3"
  }
 },
 "nbformat": 4,
 "nbformat_minor": 5
}
