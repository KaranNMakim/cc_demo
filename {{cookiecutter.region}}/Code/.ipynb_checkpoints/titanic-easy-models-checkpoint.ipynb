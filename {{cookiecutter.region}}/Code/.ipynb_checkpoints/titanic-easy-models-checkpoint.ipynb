{
 "cells": [
  {
   "cell_type": "markdown",
   "id": "ee3b11f2",
   "metadata": {
    "papermill": {
     "duration": 0.043278,
     "end_time": "2022-03-22T15:01:58.126404",
     "exception": false,
     "start_time": "2022-03-22T15:01:58.083126",
     "status": "completed"
    },
    "tags": []
   },
   "source": [
    "# Introduction"
   ]
  },
  {
   "cell_type": "code",
   "execution_count": null,
   "id": "505d8803",
   "metadata": {
    "papermill": {
     "duration": 1.379916,
     "end_time": "2022-03-22T15:01:59.542354",
     "exception": false,
     "start_time": "2022-03-22T15:01:58.162438",
     "status": "completed"
    },
    "tags": []
   },
   "outputs": [],
   "source": [
    "# Importations\n",
    "\n",
    "import pandas as pd\n",
    "import numpy as np\n",
    "\n",
    "import seaborn as sns\n",
    "import matplotlib.pyplot as plt\n",
    "%matplotlib inline\n",
    "sns.set_theme() \n",
    "\n",
    "\n",
    "from sklearn.model_selection import train_test_split\n",
    "from sklearn.preprocessing import StandardScaler\n",
    "from sklearn.metrics import  classification_report\n",
    "from sklearn.metrics import mean_squared_error, r2_score\n",
    "\n",
    "from sklearn.linear_model import LogisticRegression\n",
    "from sklearn import neighbors\n",
    "from sklearn import model_selection\n",
    "from sklearn import ensemble\n",
    "from sklearn.ensemble import GradientBoostingClassifier\n",
    "from sklearn.ensemble import VotingClassifier\n"
   ]
  },
  {
   "cell_type": "code",
   "execution_count": null,
   "id": "ac5580c0",
   "metadata": {
    "papermill": {
     "duration": 0.080798,
     "end_time": "2022-03-22T15:01:59.660303",
     "exception": false,
     "start_time": "2022-03-22T15:01:59.579505",
     "status": "completed"
    },
    "tags": []
   },
   "outputs": [],
   "source": [
    "# Upload 2 files train & test\n",
    "\n",
    "train = pd.read_csv ('../input/train.csv',\n",
    "                          sep=',', header=0, index_col=1,error_bad_lines=False)\n",
    "\n",
    "\n",
    "valid = pd.read_csv ('../input/test.csv',\n",
    "                          sep=',', header=0, index_col=1,error_bad_lines=False)\n"
   ]
  },
  {
   "cell_type": "code",
   "execution_count": null,
   "id": "d4bdd2cf",
   "metadata": {},
   "outputs": [],
   "source": [
    "#region='France'\n",
    "region='{{cookiecutter.region}}'"
   ]
  },
  {
   "cell_type": "code",
   "execution_count": null,
   "id": "c22bd9c8",
   "metadata": {
    "papermill": {
     "duration": 0.07506,
     "end_time": "2022-03-22T15:01:59.772782",
     "exception": false,
     "start_time": "2022-03-22T15:01:59.697722",
     "status": "completed"
    },
    "tags": []
   },
   "outputs": [],
   "source": [
    "train.info()\n",
    "#train=train[train['region']=='France']\n",
    "train=train[train['region']==region]\n",
    "train.drop(['region'],axis=1,inplace=True)\n",
    "train.head()"
   ]
  },
  {
   "cell_type": "code",
   "execution_count": null,
   "id": "8ef47119",
   "metadata": {
    "papermill": {
     "duration": 0.063897,
     "end_time": "2022-03-22T15:01:59.874143",
     "exception": false,
     "start_time": "2022-03-22T15:01:59.810246",
     "status": "completed"
    },
    "tags": []
   },
   "outputs": [],
   "source": [
    "valid.info()\n",
    "#valid=valid[valid['region']=='France']\n",
    "valid=valid[valid['region']==region]\n",
    "valid.drop(['region'],axis=1,inplace=True)\n",
    "valid.head()"
   ]
  },
  {
   "cell_type": "code",
   "execution_count": null,
   "id": "80dadb5d",
   "metadata": {
    "papermill": {
     "duration": 0.047059,
     "end_time": "2022-03-22T15:01:59.959720",
     "exception": false,
     "start_time": "2022-03-22T15:01:59.912661",
     "status": "completed"
    },
    "tags": []
   },
   "outputs": [],
   "source": [
    "# We can see some missing values in both files\n"
   ]
  },
  {
   "cell_type": "code",
   "execution_count": null,
   "id": "4d2d41b3",
   "metadata": {
    "papermill": {
     "duration": 0.053032,
     "end_time": "2022-03-22T15:02:00.050561",
     "exception": false,
     "start_time": "2022-03-22T15:01:59.997529",
     "status": "completed"
    },
    "tags": []
   },
   "outputs": [],
   "source": [
    "# We concatenate train and valid\n",
    "\n",
    "train['df']='train'\n",
    "valid['df']='valid'\n",
    "\n",
    "df = pd.concat([train,valid] , axis=0)\n"
   ]
  },
  {
   "cell_type": "code",
   "execution_count": null,
   "id": "1bf4eaa6",
   "metadata": {
    "papermill": {
     "duration": 0.05547,
     "end_time": "2022-03-22T15:02:00.146016",
     "exception": false,
     "start_time": "2022-03-22T15:02:00.090546",
     "status": "completed"
    },
    "tags": []
   },
   "outputs": [],
   "source": [
    "df.info()\n",
    "\n"
   ]
  },
  {
   "cell_type": "code",
   "execution_count": null,
   "id": "7444887c",
   "metadata": {
    "papermill": {
     "duration": 0.047037,
     "end_time": "2022-03-22T15:02:00.233783",
     "exception": false,
     "start_time": "2022-03-22T15:02:00.186746",
     "status": "completed"
    },
    "tags": []
   },
   "outputs": [],
   "source": [
    "\n",
    "# We cand drop 3 features : Cabin,Name and Ticket\n",
    "\n",
    "df = df.drop(['Cabin', 'Name','Ticket'], axis=1)"
   ]
  },
  {
   "cell_type": "markdown",
   "id": "1743464d",
   "metadata": {
    "papermill": {
     "duration": 0.038355,
     "end_time": "2022-03-22T15:02:00.311025",
     "exception": false,
     "start_time": "2022-03-22T15:02:00.272670",
     "status": "completed"
    },
    "tags": []
   },
   "source": [
    "# Statistiques"
   ]
  },
  {
   "cell_type": "code",
   "execution_count": null,
   "id": "cc8235de",
   "metadata": {
    "papermill": {
     "duration": 0.055493,
     "end_time": "2022-03-22T15:02:00.404872",
     "exception": false,
     "start_time": "2022-03-22T15:02:00.349379",
     "status": "completed"
    },
    "tags": []
   },
   "outputs": [],
   "source": [
    "# NUM\n",
    "\n",
    "num_col=['Age','Fare']\n",
    "for col in num_col :  \n",
    "    print(col, \":\", df[col].describe())\n"
   ]
  },
  {
   "cell_type": "code",
   "execution_count": null,
   "id": "e933936d",
   "metadata": {
    "papermill": {
     "duration": 0.060901,
     "end_time": "2022-03-22T15:02:00.504579",
     "exception": false,
     "start_time": "2022-03-22T15:02:00.443678",
     "status": "completed"
    },
    "tags": []
   },
   "outputs": [],
   "source": [
    "# CAT\n",
    "\n",
    "for col in df.columns : \n",
    "    if col not in num_col : \n",
    "        print(col, \":\", df[col].value_counts())"
   ]
  },
  {
   "cell_type": "code",
   "execution_count": null,
   "id": "0769fa3e",
   "metadata": {
    "papermill": {
     "duration": 0.05357,
     "end_time": "2022-03-22T15:02:00.597804",
     "exception": false,
     "start_time": "2022-03-22T15:02:00.544234",
     "status": "completed"
    },
    "tags": []
   },
   "outputs": [],
   "source": [
    "df.info()"
   ]
  },
  {
   "cell_type": "code",
   "execution_count": null,
   "id": "cfc87534",
   "metadata": {
    "papermill": {
     "duration": 0.24017,
     "end_time": "2022-03-22T15:02:00.877754",
     "exception": false,
     "start_time": "2022-03-22T15:02:00.637584",
     "status": "completed"
    },
    "tags": []
   },
   "outputs": [],
   "source": [
    "p=sns.countplot(x='Survived',  data=train)\n",
    "p.set(title = \"Variable survival \"+region)\n",
    "plt.gcf().savefig('../../output/survival.png')\n",
    "plt.show(block=False)"
   ]
  },
  {
   "cell_type": "code",
   "execution_count": null,
   "id": "fdad9640",
   "metadata": {
    "papermill": {
     "duration": 0.459365,
     "end_time": "2022-03-22T15:02:01.379801",
     "exception": false,
     "start_time": "2022-03-22T15:02:00.920436",
     "status": "completed"
    },
    "tags": []
   },
   "outputs": [],
   "source": [
    "# Distribution of Age\n",
    "\n",
    "p=sns.displot(df['Age'], bins=15, kind='hist', kde=1)\n",
    "p.set(title = \"Distribution of the variable age \"+region)\n",
    "plt.gcf().savefig('../../../output/age_hist.png')\n",
    "plt.show(block=False)"
   ]
  },
  {
   "cell_type": "code",
   "execution_count": null,
   "id": "9a5fe218",
   "metadata": {
    "papermill": {
     "duration": 0.248456,
     "end_time": "2022-03-22T15:02:01.673103",
     "exception": false,
     "start_time": "2022-03-22T15:02:01.424647",
     "status": "completed"
    },
    "tags": []
   },
   "outputs": [],
   "source": [
    "\n",
    "p=sns.boxplot( y='Age', x='Survived', data=df)\n",
    "p.set(title = \"Age distribution as a function of survival \"+region)\n",
    "plt.gcf().savefig('../../../output/age_survival.png')\n",
    "plt.show(block=False)"
   ]
  },
  {
   "cell_type": "code",
   "execution_count": null,
   "id": "b6dec38b",
   "metadata": {
    "papermill": {
     "duration": 0.255541,
     "end_time": "2022-03-22T15:02:01.971499",
     "exception": false,
     "start_time": "2022-03-22T15:02:01.715958",
     "status": "completed"
    },
    "tags": []
   },
   "outputs": [],
   "source": [
    "sns.countplot(x='Pclass', hue='Survived', data=df)\n",
    "p.set(title = \"Crossing between class and survival \"+region)\n",
    "plt.gcf().savefig('../../../output/class_survival.png')\n",
    "plt.show(block=False)"
   ]
  },
  {
   "cell_type": "code",
   "execution_count": null,
   "id": "eae6d309",
   "metadata": {
    "papermill": {
     "duration": 0.233516,
     "end_time": "2022-03-22T15:02:02.248863",
     "exception": false,
     "start_time": "2022-03-22T15:02:02.015347",
     "status": "completed"
    },
    "tags": []
   },
   "outputs": [],
   "source": [
    "sns.countplot(x='Sex', hue='Survived', data=df)\n",
    "p.set(title = \"Cross between gender and survival \"+region)\n",
    "plt.gcf().savefig('../../../output/gender_survival.png')\n",
    "plt.show(block=False)"
   ]
  },
  {
   "cell_type": "code",
   "execution_count": null,
   "id": "362885f7",
   "metadata": {
    "papermill": {
     "duration": 0.259441,
     "end_time": "2022-03-22T15:02:02.551967",
     "exception": false,
     "start_time": "2022-03-22T15:02:02.292526",
     "status": "completed"
    },
    "tags": []
   },
   "outputs": [],
   "source": [
    "sns.countplot(x='Embarked', hue='Survived', data=train)\n",
    "p.set(title = \"Crossing between embarkation and survival \"+region)\n",
    "plt.gcf().savefig('../../../output/embark_survival.png')\n",
    "plt.show(block=False)"
   ]
  },
  {
   "cell_type": "markdown",
   "id": "77bea1b4",
   "metadata": {
    "papermill": {
     "duration": 0.045001,
     "end_time": "2022-03-22T15:02:02.641978",
     "exception": false,
     "start_time": "2022-03-22T15:02:02.596977",
     "status": "completed"
    },
    "tags": []
   },
   "source": [
    "# Preprocessing"
   ]
  },
  {
   "cell_type": "code",
   "execution_count": null,
   "id": "df7c9e08",
   "metadata": {
    "papermill": {
     "duration": 0.055648,
     "end_time": "2022-03-22T15:02:02.742777",
     "exception": false,
     "start_time": "2022-03-22T15:02:02.687129",
     "status": "completed"
    },
    "tags": []
   },
   "outputs": [],
   "source": [
    "# Fill missing values : \n",
    "\n",
    "# AGE : on remplace par la moyenne\n",
    "df['Age'].replace( { np.NaN : df['Age'].median() } , inplace=True)\n",
    "\n",
    "\n",
    "# EMBARKED : par le mode\n",
    "df['Embarked'].replace( { np.NaN :df['Embarked'].mode()[0] } , inplace=True)\n",
    "\n",
    "\n",
    "# Fare : moyenne\n",
    "df['Fare'].replace( { np.NaN : df['Fare'].median() } , inplace=True)\n"
   ]
  },
  {
   "cell_type": "code",
   "execution_count": null,
   "id": "e2220205",
   "metadata": {
    "papermill": {
     "duration": 0.059146,
     "end_time": "2022-03-22T15:02:02.847515",
     "exception": false,
     "start_time": "2022-03-22T15:02:02.788369",
     "status": "completed"
    },
    "tags": []
   },
   "outputs": [],
   "source": [
    "df.info()"
   ]
  },
  {
   "cell_type": "code",
   "execution_count": null,
   "id": "eb903810",
   "metadata": {
    "papermill": {
     "duration": 0.062734,
     "end_time": "2022-03-22T15:02:02.957035",
     "exception": false,
     "start_time": "2022-03-22T15:02:02.894301",
     "status": "completed"
    },
    "tags": []
   },
   "outputs": [],
   "source": [
    "# Get Dummy\n",
    "\n",
    "df_discret = pd.get_dummies(data = df )\n",
    "\n",
    "df_discret.shape"
   ]
  },
  {
   "cell_type": "code",
   "execution_count": null,
   "id": "da1f75dc",
   "metadata": {
    "papermill": {
     "duration": 0.064662,
     "end_time": "2022-03-22T15:02:03.067760",
     "exception": false,
     "start_time": "2022-03-22T15:02:03.003098",
     "status": "completed"
    },
    "tags": []
   },
   "outputs": [],
   "source": [
    "df_discret.head()"
   ]
  },
  {
   "cell_type": "code",
   "execution_count": null,
   "id": "d932d252",
   "metadata": {
    "papermill": {
     "duration": 0.06287,
     "end_time": "2022-03-22T15:02:03.178338",
     "exception": false,
     "start_time": "2022-03-22T15:02:03.115468",
     "status": "completed"
    },
    "tags": []
   },
   "outputs": [],
   "source": [
    "# We split the 2 dataframes\n",
    "\n",
    "\n",
    "train2 = df_discret[df_discret['df_train']==1]\n",
    "valid2 = df_discret[df_discret['df_valid']==1]\n",
    "\n",
    "\n",
    "print(train2.shape)\n",
    "print(valid2.shape)"
   ]
  },
  {
   "cell_type": "code",
   "execution_count": null,
   "id": "355d00d7",
   "metadata": {
    "papermill": {
     "duration": 0.055979,
     "end_time": "2022-03-22T15:02:03.281959",
     "exception": false,
     "start_time": "2022-03-22T15:02:03.225980",
     "status": "completed"
    },
    "tags": []
   },
   "outputs": [],
   "source": [
    "# We drop these columns\n",
    "\n",
    "\n",
    "train2 = train2.drop(['df_train', 'df_valid'], axis=1)\n",
    "\n",
    "valid2 = valid2.drop(['df_train', 'df_valid','Survived'], axis=1)"
   ]
  },
  {
   "cell_type": "code",
   "execution_count": null,
   "id": "92d1b4a4",
   "metadata": {
    "papermill": {
     "duration": 0.058031,
     "end_time": "2022-03-22T15:02:03.388775",
     "exception": false,
     "start_time": "2022-03-22T15:02:03.330744",
     "status": "completed"
    },
    "tags": []
   },
   "outputs": [],
   "source": [
    "# Train test split\n",
    "\n",
    "target = train2['Survived']\n",
    "features= train2.drop('Survived', axis=1)\n",
    "\n",
    "X_train, X_test, y_train, y_test = train_test_split(features, target,stratify=target, test_size = 0.2, random_state=50)\n"
   ]
  },
  {
   "cell_type": "code",
   "execution_count": null,
   "id": "5fceae3a",
   "metadata": {
    "papermill": {
     "duration": 0.061255,
     "end_time": "2022-03-22T15:02:03.497403",
     "exception": false,
     "start_time": "2022-03-22T15:02:03.436148",
     "status": "completed"
    },
    "tags": []
   },
   "outputs": [],
   "source": [
    "# StandardScaler\n",
    "\n",
    "scaler= StandardScaler()\n",
    "\n",
    "X_train_scaled  = scaler.fit_transform (X_train)\n",
    "\n",
    "X_test_scaled = scaler.transform ( X_test)\n",
    "\n",
    "valid_scaled = scaler.transform ( valid2)"
   ]
  },
  {
   "cell_type": "markdown",
   "id": "0bc0eaec",
   "metadata": {
    "papermill": {
     "duration": 0.047292,
     "end_time": "2022-03-22T15:02:03.592200",
     "exception": false,
     "start_time": "2022-03-22T15:02:03.544908",
     "status": "completed"
    },
    "tags": []
   },
   "source": [
    "# Creation of 4 models\n"
   ]
  },
  {
   "cell_type": "code",
   "execution_count": null,
   "id": "0279d213",
   "metadata": {
    "papermill": {
     "duration": 0.08308,
     "end_time": "2022-03-22T15:02:03.723267",
     "exception": false,
     "start_time": "2022-03-22T15:02:03.640187",
     "status": "completed"
    },
    "tags": []
   },
   "outputs": [],
   "source": [
    "# Logistic Regression\n",
    "\n",
    "clf_lr= LogisticRegression().fit(X_train_scaled,y_train)\n",
    "\n",
    "y_pred_test_lr = clf_lr.predict(X_test_scaled)\n",
    "\n",
    "\n",
    "print(\"Results on test\")\n",
    "print(pd.crosstab(y_test, y_pred_test_lr, rownames=['Truth'], colnames=['Prediction']))\n",
    "print (classification_report(y_test, y_pred_test_lr))\n"
   ]
  },
  {
   "cell_type": "code",
   "execution_count": null,
   "id": "b46e7cc0",
   "metadata": {
    "papermill": {
     "duration": 0.08726,
     "end_time": "2022-03-22T15:02:03.860113",
     "exception": false,
     "start_time": "2022-03-22T15:02:03.772853",
     "status": "completed"
    },
    "tags": []
   },
   "outputs": [],
   "source": [
    "# KNN (5 Neighbors)\n",
    "\n",
    "knn =  neighbors.KNeighborsClassifier()\n",
    "\n",
    "knn.fit(X_train_scaled,y_train)\n",
    "\n",
    "y_pred_test_knn = knn.predict(X_test_scaled)\n",
    "\n",
    "print(\"Results on test\")\n",
    "print(pd.crosstab(y_test, y_pred_test_knn, rownames=['Truth'], colnames=['Prediction']))\n",
    "print (classification_report(y_test, y_pred_test_knn))"
   ]
  },
  {
   "cell_type": "code",
   "execution_count": null,
   "id": "fccf37ce",
   "metadata": {
    "papermill": {
     "duration": 0.294618,
     "end_time": "2022-03-22T15:02:04.204959",
     "exception": false,
     "start_time": "2022-03-22T15:02:03.910341",
     "status": "completed"
    },
    "tags": []
   },
   "outputs": [],
   "source": [
    "# Random Forest (100 trees)\n",
    " \n",
    "rf = ensemble.RandomForestClassifier()\n",
    "\n",
    "rf.fit(X_train_scaled,y_train)\n",
    "\n",
    "y_pred_test_rf = rf.predict(X_test_scaled)\n",
    "\n",
    "print(\"Results on test\")\n",
    "print(pd.crosstab(y_test, y_pred_test_rf, rownames=['Truth'], colnames=['Prediction']))\n",
    "print (classification_report(y_test, y_pred_test_rf))\n"
   ]
  },
  {
   "cell_type": "code",
   "execution_count": null,
   "id": "b78877bc",
   "metadata": {
    "papermill": {
     "duration": 0.182326,
     "end_time": "2022-03-22T15:02:04.435914",
     "exception": false,
     "start_time": "2022-03-22T15:02:04.253588",
     "status": "completed"
    },
    "tags": []
   },
   "outputs": [],
   "source": [
    "# GradientBoostingClassifier ( 100 estimators)\n",
    "\n",
    "clf = GradientBoostingClassifier()\n",
    "\n",
    "clf.fit(X_train_scaled,y_train)\n",
    "\n",
    "y_pred_test_gbc = clf.predict(X_test_scaled)\n",
    "\n",
    "print(\"Results on test\")\n",
    "print(pd.crosstab(y_test, y_pred_test_gbc, rownames=['Truth'], colnames=['Prediction']))\n",
    "print (classification_report(y_test, y_pred_test_gbc))\n"
   ]
  },
  {
   "cell_type": "code",
   "execution_count": null,
   "id": "6453a1a0",
   "metadata": {
    "papermill": {
     "duration": 0.411221,
     "end_time": "2022-03-22T15:02:04.897830",
     "exception": false,
     "start_time": "2022-03-22T15:02:04.486609",
     "status": "completed"
    },
    "tags": []
   },
   "outputs": [],
   "source": [
    "# Maybe we can improve the performance with a Voting classifier combining  the 4 models\n",
    "\n",
    "\n",
    "vc = VotingClassifier([('lr', clf_lr),('knn', knn), ('rf', rf), ('clf', clf)])\n",
    "\n",
    "vc.fit(X_train_scaled,y_train)\n",
    "\n",
    "y_pred_test_vc = vc.predict(X_test_scaled)\n",
    "\n",
    "print(pd.crosstab(y_test, y_pred_test_vc, rownames=['Truth'], colnames=['Prediction']))\n",
    "print (classification_report(y_test, y_pred_test_vc))"
   ]
  },
  {
   "cell_type": "markdown",
   "id": "0384321d",
   "metadata": {
    "papermill": {
     "duration": 0.048356,
     "end_time": "2022-03-22T15:02:04.994617",
     "exception": false,
     "start_time": "2022-03-22T15:02:04.946261",
     "status": "completed"
    },
    "tags": []
   },
   "source": [
    "# Conclusion"
   ]
  },
  {
   "cell_type": "code",
   "execution_count": null,
   "id": "699a49a1",
   "metadata": {
    "papermill": {
     "duration": 0.112933,
     "end_time": "2022-03-22T15:02:05.155739",
     "exception": false,
     "start_time": "2022-03-22T15:02:05.042806",
     "status": "completed"
    },
    "tags": []
   },
   "outputs": [],
   "source": [
    "\n",
    "print(\"Score - régression logistique :\",clf_lr.score(X_test_scaled, y_test))\n",
    "print(\"Score - KNN :\",knn.score(X_test_scaled, y_test))\n",
    "print(\"Score - random forest :\",rf.score(X_test_scaled, y_test))\n",
    "print(\"Score - gradient boosting classifier:\",clf.score(X_test_scaled, y_test))\n",
    "print(\"Score - voting classifier :\",vc.score(X_test_scaled, y_test))\n",
    "\n",
    "\n"
   ]
  },
  {
   "cell_type": "markdown",
   "id": "91d9007a",
   "metadata": {
    "papermill": {
     "duration": 0.048151,
     "end_time": "2022-03-22T15:02:05.252895",
     "exception": false,
     "start_time": "2022-03-22T15:02:05.204744",
     "status": "completed"
    },
    "tags": []
   },
   "source": [
    "# Kaggle Submission "
   ]
  },
  {
   "cell_type": "code",
   "execution_count": null,
   "id": "1e283120",
   "metadata": {
    "papermill": {
     "duration": 0.10592,
     "end_time": "2022-03-22T15:02:05.406638",
     "exception": false,
     "start_time": "2022-03-22T15:02:05.300718",
     "status": "completed"
    },
    "tags": []
   },
   "outputs": [],
   "source": [
    "prediction_final = vc.predict(valid_scaled)\n",
    "valid2['Survived']=prediction_final\n",
    "valid2['Survived']=valid2['Survived'].astype('int64')\n",
    "valid2=valid2.reset_index()\n",
    "\n",
    "\n",
    "submission = pd.DataFrame({'PassengerId':valid2['PassengerId'],'Survived':valid2['Survived']})\n",
    "\n",
    "import datetime;\n",
    "  \n",
    "# ct stores current time\n",
    "ct = datetime.datetime.now()\n",
    "\n",
    "ct=str(ct)\n",
    "\n",
    "ct=ct.replace(' ','_')\n",
    "ct=ct.replace('.','_')\n",
    "ct=ct.replace(':','_')\n",
    "\n",
    "\n",
    "import os\n",
    "\n",
    "path = '../output/'+region\n",
    "\n",
    "# Check whether the specified path exists or not\n",
    "isExist = os.path.exists(path)\n",
    "\n",
    "if not isExist:\n",
    "  \n",
    "  # Create a new directory because it does not exist \n",
    "  os.makedirs(path)\n",
    "  print(\"The new directory is created!\")\n",
    "\n",
    "#Convert DataFrame to a csv file that can be uploaded\n",
    "#This is saved in the same directory as your notebook\n",
    "filename = path+'/Titanic Predictions vc '+str(ct)+'.csv'\n",
    "\n",
    "submission.to_csv(filename,index=False)\n",
    "\n",
    "print('Saved file: ' + filename)\n",
    "\n"
   ]
  },
  {
   "cell_type": "code",
   "execution_count": null,
   "id": "9a1df566",
   "metadata": {},
   "outputs": [],
   "source": [
    "valid2.to_csv('../../../output/output.csv',index=False)"
   ]
  },
  {
   "cell_type": "code",
   "execution_count": null,
   "id": "29d57586-af50-41b9-b12c-fc5c7bf16f44",
   "metadata": {},
   "outputs": [],
   "source": []
  }
 ],
 "metadata": {
  "kernelspec": {
   "display_name": "Python 3 (ipykernel)",
   "language": "python",
   "name": "python3"
  },
  "language_info": {
   "codemirror_mode": {
    "name": "ipython",
    "version": 3
   },
   "file_extension": ".py",
   "mimetype": "text/x-python",
   "name": "python",
   "nbconvert_exporter": "python",
   "pygments_lexer": "ipython3",
   "version": "3.9.7"
  },
  "papermill": {
   "default_parameters": {},
   "duration": 17.288909,
   "end_time": "2022-03-22T15:02:06.169131",
   "environment_variables": {},
   "exception": null,
   "input_path": "__notebook__.ipynb",
   "output_path": "__notebook__.ipynb",
   "parameters": {},
   "start_time": "2022-03-22T15:01:48.880222",
   "version": "2.3.3"
  }
 },
 "nbformat": 4,
 "nbformat_minor": 5
}
