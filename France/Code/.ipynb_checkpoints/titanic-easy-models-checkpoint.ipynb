{
 "cells": [
  {
   "cell_type": "markdown",
   "id": "ee3b11f2",
   "metadata": {
    "papermill": {
     "duration": 0.043278,
     "end_time": "2022-03-22T15:01:58.126404",
     "exception": false,
     "start_time": "2022-03-22T15:01:58.083126",
     "status": "completed"
    },
    "tags": []
   },
   "source": [
    "# Introduction"
   ]
  },
  {
   "cell_type": "code",
   "execution_count": 1,
   "id": "505d8803",
   "metadata": {
    "execution": {
     "iopub.execute_input": "2022-03-22T15:01:58.201957Z",
     "iopub.status.busy": "2022-03-22T15:01:58.200864Z",
     "iopub.status.idle": "2022-03-22T15:01:59.541359Z",
     "shell.execute_reply": "2022-03-22T15:01:59.542045Z",
     "shell.execute_reply.started": "2022-03-22T14:58:58.348630Z"
    },
    "papermill": {
     "duration": 1.379916,
     "end_time": "2022-03-22T15:01:59.542354",
     "exception": false,
     "start_time": "2022-03-22T15:01:58.162438",
     "status": "completed"
    },
    "tags": []
   },
   "outputs": [
    {
     "ename": "ModuleNotFoundError",
     "evalue": "No module named 'seaborn'",
     "output_type": "error",
     "traceback": [
      "\u001b[1;31m---------------------------------------------------------------------------\u001b[0m",
      "\u001b[1;31mModuleNotFoundError\u001b[0m                       Traceback (most recent call last)",
      "\u001b[1;32mC:\\Users\\KARANN~1.MAK\\AppData\\Local\\Temp/ipykernel_16892/3078341475.py\u001b[0m in \u001b[0;36m<module>\u001b[1;34m\u001b[0m\n\u001b[0;32m      4\u001b[0m \u001b[1;32mimport\u001b[0m \u001b[0mnumpy\u001b[0m \u001b[1;32mas\u001b[0m \u001b[0mnp\u001b[0m\u001b[1;33m\u001b[0m\u001b[1;33m\u001b[0m\u001b[0m\n\u001b[0;32m      5\u001b[0m \u001b[1;33m\u001b[0m\u001b[0m\n\u001b[1;32m----> 6\u001b[1;33m \u001b[1;32mimport\u001b[0m \u001b[0mseaborn\u001b[0m \u001b[1;32mas\u001b[0m \u001b[0msns\u001b[0m\u001b[1;33m\u001b[0m\u001b[1;33m\u001b[0m\u001b[0m\n\u001b[0m\u001b[0;32m      7\u001b[0m \u001b[1;32mimport\u001b[0m \u001b[0mmatplotlib\u001b[0m\u001b[1;33m.\u001b[0m\u001b[0mpyplot\u001b[0m \u001b[1;32mas\u001b[0m \u001b[0mplt\u001b[0m\u001b[1;33m\u001b[0m\u001b[1;33m\u001b[0m\u001b[0m\n\u001b[0;32m      8\u001b[0m \u001b[0mget_ipython\u001b[0m\u001b[1;33m(\u001b[0m\u001b[1;33m)\u001b[0m\u001b[1;33m.\u001b[0m\u001b[0mrun_line_magic\u001b[0m\u001b[1;33m(\u001b[0m\u001b[1;34m'matplotlib'\u001b[0m\u001b[1;33m,\u001b[0m \u001b[1;34m'inline'\u001b[0m\u001b[1;33m)\u001b[0m\u001b[1;33m\u001b[0m\u001b[1;33m\u001b[0m\u001b[0m\n",
      "\u001b[1;31mModuleNotFoundError\u001b[0m: No module named 'seaborn'"
     ]
    }
   ],
   "source": [
    "# Importations\n",
    "\n",
    "import pandas as pd\n",
    "import numpy as np\n",
    "\n",
    "import seaborn as sns\n",
    "import matplotlib.pyplot as plt\n",
    "%matplotlib inline\n",
    "sns.set_theme() \n",
    "\n",
    "\n",
    "from sklearn.model_selection import train_test_split\n",
    "from sklearn.preprocessing import StandardScaler\n",
    "from sklearn.metrics import  classification_report\n",
    "from sklearn.metrics import mean_squared_error, r2_score\n",
    "\n",
    "from sklearn.linear_model import LogisticRegression\n",
    "from sklearn import neighbors\n",
    "from sklearn import model_selection\n",
    "from sklearn import ensemble\n",
    "from sklearn.ensemble import GradientBoostingClassifier\n",
    "from sklearn.ensemble import VotingClassifier\n"
   ]
  },
  {
   "cell_type": "code",
   "execution_count": 2,
   "id": "ac5580c0",
   "metadata": {
    "execution": {
     "iopub.execute_input": "2022-03-22T15:01:59.619306Z",
     "iopub.status.busy": "2022-03-22T15:01:59.618523Z",
     "iopub.status.idle": "2022-03-22T15:01:59.660159Z",
     "shell.execute_reply": "2022-03-22T15:01:59.659549Z",
     "shell.execute_reply.started": "2022-03-22T14:58:58.364200Z"
    },
    "papermill": {
     "duration": 0.080798,
     "end_time": "2022-03-22T15:01:59.660303",
     "exception": false,
     "start_time": "2022-03-22T15:01:59.579505",
     "status": "completed"
    },
    "tags": []
   },
   "outputs": [
    {
     "name": "stderr",
     "output_type": "stream",
     "text": [
      "/opt/conda/lib/python3.7/site-packages/IPython/core/interactiveshell.py:3457: FutureWarning: The error_bad_lines argument has been deprecated and will be removed in a future version.\n",
      "\n",
      "\n",
      "  exec(code_obj, self.user_global_ns, self.user_ns)\n"
     ]
    }
   ],
   "source": [
    "# Upload 2 files train & test\n",
    "\n",
    "train = pd.read_csv ('../input/train.csv',\n",
    "                          sep=',', header=0, index_col=0,error_bad_lines=False)\n",
    "\n",
    "\n",
    "valid = pd.read_csv ('../input/test.csv',\n",
    "                          sep=',', header=0, index_col=0,error_bad_lines=False)\n"
   ]
  },
  {
   "cell_type": "code",
   "execution_count": null,
   "id": "e04fb2e3",
   "metadata": {},
   "outputs": [],
   "source": [
    "region={{cookiecutter.region}}"
   ]
  },
  {
   "cell_type": "code",
   "execution_count": 3,
   "id": "c22bd9c8",
   "metadata": {
    "execution": {
     "iopub.execute_input": "2022-03-22T15:01:59.737578Z",
     "iopub.status.busy": "2022-03-22T15:01:59.736622Z",
     "iopub.status.idle": "2022-03-22T15:01:59.772636Z",
     "shell.execute_reply": "2022-03-22T15:01:59.771993Z",
     "shell.execute_reply.started": "2022-03-22T14:58:58.393443Z"
    },
    "papermill": {
     "duration": 0.07506,
     "end_time": "2022-03-22T15:01:59.772782",
     "exception": false,
     "start_time": "2022-03-22T15:01:59.697722",
     "status": "completed"
    },
    "tags": []
   },
   "outputs": [
    {
     "name": "stdout",
     "output_type": "stream",
     "text": [
      "<class 'pandas.core.frame.DataFrame'>\n",
      "Int64Index: 891 entries, 1 to 891\n",
      "Data columns (total 11 columns):\n",
      " #   Column    Non-Null Count  Dtype  \n",
      "---  ------    --------------  -----  \n",
      " 0   Survived  891 non-null    int64  \n",
      " 1   Pclass    891 non-null    int64  \n",
      " 2   Name      891 non-null    object \n",
      " 3   Sex       891 non-null    object \n",
      " 4   Age       714 non-null    float64\n",
      " 5   SibSp     891 non-null    int64  \n",
      " 6   Parch     891 non-null    int64  \n",
      " 7   Ticket    891 non-null    object \n",
      " 8   Fare      891 non-null    float64\n",
      " 9   Cabin     204 non-null    object \n",
      " 10  Embarked  889 non-null    object \n",
      "dtypes: float64(2), int64(4), object(5)\n",
      "memory usage: 83.5+ KB\n"
     ]
    },
    {
     "data": {
      "text/html": [
       "<div>\n",
       "<style scoped>\n",
       "    .dataframe tbody tr th:only-of-type {\n",
       "        vertical-align: middle;\n",
       "    }\n",
       "\n",
       "    .dataframe tbody tr th {\n",
       "        vertical-align: top;\n",
       "    }\n",
       "\n",
       "    .dataframe thead th {\n",
       "        text-align: right;\n",
       "    }\n",
       "</style>\n",
       "<table border=\"1\" class=\"dataframe\">\n",
       "  <thead>\n",
       "    <tr style=\"text-align: right;\">\n",
       "      <th></th>\n",
       "      <th>Survived</th>\n",
       "      <th>Pclass</th>\n",
       "      <th>Name</th>\n",
       "      <th>Sex</th>\n",
       "      <th>Age</th>\n",
       "      <th>SibSp</th>\n",
       "      <th>Parch</th>\n",
       "      <th>Ticket</th>\n",
       "      <th>Fare</th>\n",
       "      <th>Cabin</th>\n",
       "      <th>Embarked</th>\n",
       "    </tr>\n",
       "    <tr>\n",
       "      <th>PassengerId</th>\n",
       "      <th></th>\n",
       "      <th></th>\n",
       "      <th></th>\n",
       "      <th></th>\n",
       "      <th></th>\n",
       "      <th></th>\n",
       "      <th></th>\n",
       "      <th></th>\n",
       "      <th></th>\n",
       "      <th></th>\n",
       "      <th></th>\n",
       "    </tr>\n",
       "  </thead>\n",
       "  <tbody>\n",
       "    <tr>\n",
       "      <th>1</th>\n",
       "      <td>0</td>\n",
       "      <td>3</td>\n",
       "      <td>Braund, Mr. Owen Harris</td>\n",
       "      <td>male</td>\n",
       "      <td>22.0</td>\n",
       "      <td>1</td>\n",
       "      <td>0</td>\n",
       "      <td>A/5 21171</td>\n",
       "      <td>7.2500</td>\n",
       "      <td>NaN</td>\n",
       "      <td>S</td>\n",
       "    </tr>\n",
       "    <tr>\n",
       "      <th>2</th>\n",
       "      <td>1</td>\n",
       "      <td>1</td>\n",
       "      <td>Cumings, Mrs. John Bradley (Florence Briggs Th...</td>\n",
       "      <td>female</td>\n",
       "      <td>38.0</td>\n",
       "      <td>1</td>\n",
       "      <td>0</td>\n",
       "      <td>PC 17599</td>\n",
       "      <td>71.2833</td>\n",
       "      <td>C85</td>\n",
       "      <td>C</td>\n",
       "    </tr>\n",
       "    <tr>\n",
       "      <th>3</th>\n",
       "      <td>1</td>\n",
       "      <td>3</td>\n",
       "      <td>Heikkinen, Miss. Laina</td>\n",
       "      <td>female</td>\n",
       "      <td>26.0</td>\n",
       "      <td>0</td>\n",
       "      <td>0</td>\n",
       "      <td>STON/O2. 3101282</td>\n",
       "      <td>7.9250</td>\n",
       "      <td>NaN</td>\n",
       "      <td>S</td>\n",
       "    </tr>\n",
       "    <tr>\n",
       "      <th>4</th>\n",
       "      <td>1</td>\n",
       "      <td>1</td>\n",
       "      <td>Futrelle, Mrs. Jacques Heath (Lily May Peel)</td>\n",
       "      <td>female</td>\n",
       "      <td>35.0</td>\n",
       "      <td>1</td>\n",
       "      <td>0</td>\n",
       "      <td>113803</td>\n",
       "      <td>53.1000</td>\n",
       "      <td>C123</td>\n",
       "      <td>S</td>\n",
       "    </tr>\n",
       "    <tr>\n",
       "      <th>5</th>\n",
       "      <td>0</td>\n",
       "      <td>3</td>\n",
       "      <td>Allen, Mr. William Henry</td>\n",
       "      <td>male</td>\n",
       "      <td>35.0</td>\n",
       "      <td>0</td>\n",
       "      <td>0</td>\n",
       "      <td>373450</td>\n",
       "      <td>8.0500</td>\n",
       "      <td>NaN</td>\n",
       "      <td>S</td>\n",
       "    </tr>\n",
       "  </tbody>\n",
       "</table>\n",
       "</div>"
      ],
      "text/plain": [
       "             Survived  Pclass  \\\n",
       "PassengerId                     \n",
       "1                   0       3   \n",
       "2                   1       1   \n",
       "3                   1       3   \n",
       "4                   1       1   \n",
       "5                   0       3   \n",
       "\n",
       "                                                          Name     Sex   Age  \\\n",
       "PassengerId                                                                    \n",
       "1                                      Braund, Mr. Owen Harris    male  22.0   \n",
       "2            Cumings, Mrs. John Bradley (Florence Briggs Th...  female  38.0   \n",
       "3                                       Heikkinen, Miss. Laina  female  26.0   \n",
       "4                 Futrelle, Mrs. Jacques Heath (Lily May Peel)  female  35.0   \n",
       "5                                     Allen, Mr. William Henry    male  35.0   \n",
       "\n",
       "             SibSp  Parch            Ticket     Fare Cabin Embarked  \n",
       "PassengerId                                                          \n",
       "1                1      0         A/5 21171   7.2500   NaN        S  \n",
       "2                1      0          PC 17599  71.2833   C85        C  \n",
       "3                0      0  STON/O2. 3101282   7.9250   NaN        S  \n",
       "4                1      0            113803  53.1000  C123        S  \n",
       "5                0      0            373450   8.0500   NaN        S  "
      ]
     },
     "execution_count": 3,
     "metadata": {},
     "output_type": "execute_result"
    }
   ],
   "source": [
    "train.info()\n",
    "\n",
    "train.head()"
   ]
  },
  {
   "cell_type": "code",
   "execution_count": 4,
   "id": "8ef47119",
   "metadata": {
    "execution": {
     "iopub.execute_input": "2022-03-22T15:01:59.853443Z",
     "iopub.status.busy": "2022-03-22T15:01:59.852806Z",
     "iopub.status.idle": "2022-03-22T15:01:59.873528Z",
     "shell.execute_reply": "2022-03-22T15:01:59.873957Z",
     "shell.execute_reply.started": "2022-03-22T14:58:58.420297Z"
    },
    "papermill": {
     "duration": 0.063897,
     "end_time": "2022-03-22T15:01:59.874143",
     "exception": false,
     "start_time": "2022-03-22T15:01:59.810246",
     "status": "completed"
    },
    "tags": []
   },
   "outputs": [
    {
     "name": "stdout",
     "output_type": "stream",
     "text": [
      "<class 'pandas.core.frame.DataFrame'>\n",
      "Int64Index: 418 entries, 892 to 1309\n",
      "Data columns (total 10 columns):\n",
      " #   Column    Non-Null Count  Dtype  \n",
      "---  ------    --------------  -----  \n",
      " 0   Pclass    418 non-null    int64  \n",
      " 1   Name      418 non-null    object \n",
      " 2   Sex       418 non-null    object \n",
      " 3   Age       332 non-null    float64\n",
      " 4   SibSp     418 non-null    int64  \n",
      " 5   Parch     418 non-null    int64  \n",
      " 6   Ticket    418 non-null    object \n",
      " 7   Fare      417 non-null    float64\n",
      " 8   Cabin     91 non-null     object \n",
      " 9   Embarked  418 non-null    object \n",
      "dtypes: float64(2), int64(3), object(5)\n",
      "memory usage: 35.9+ KB\n"
     ]
    },
    {
     "data": {
      "text/html": [
       "<div>\n",
       "<style scoped>\n",
       "    .dataframe tbody tr th:only-of-type {\n",
       "        vertical-align: middle;\n",
       "    }\n",
       "\n",
       "    .dataframe tbody tr th {\n",
       "        vertical-align: top;\n",
       "    }\n",
       "\n",
       "    .dataframe thead th {\n",
       "        text-align: right;\n",
       "    }\n",
       "</style>\n",
       "<table border=\"1\" class=\"dataframe\">\n",
       "  <thead>\n",
       "    <tr style=\"text-align: right;\">\n",
       "      <th></th>\n",
       "      <th>Pclass</th>\n",
       "      <th>Name</th>\n",
       "      <th>Sex</th>\n",
       "      <th>Age</th>\n",
       "      <th>SibSp</th>\n",
       "      <th>Parch</th>\n",
       "      <th>Ticket</th>\n",
       "      <th>Fare</th>\n",
       "      <th>Cabin</th>\n",
       "      <th>Embarked</th>\n",
       "    </tr>\n",
       "    <tr>\n",
       "      <th>PassengerId</th>\n",
       "      <th></th>\n",
       "      <th></th>\n",
       "      <th></th>\n",
       "      <th></th>\n",
       "      <th></th>\n",
       "      <th></th>\n",
       "      <th></th>\n",
       "      <th></th>\n",
       "      <th></th>\n",
       "      <th></th>\n",
       "    </tr>\n",
       "  </thead>\n",
       "  <tbody>\n",
       "    <tr>\n",
       "      <th>892</th>\n",
       "      <td>3</td>\n",
       "      <td>Kelly, Mr. James</td>\n",
       "      <td>male</td>\n",
       "      <td>34.5</td>\n",
       "      <td>0</td>\n",
       "      <td>0</td>\n",
       "      <td>330911</td>\n",
       "      <td>7.8292</td>\n",
       "      <td>NaN</td>\n",
       "      <td>Q</td>\n",
       "    </tr>\n",
       "    <tr>\n",
       "      <th>893</th>\n",
       "      <td>3</td>\n",
       "      <td>Wilkes, Mrs. James (Ellen Needs)</td>\n",
       "      <td>female</td>\n",
       "      <td>47.0</td>\n",
       "      <td>1</td>\n",
       "      <td>0</td>\n",
       "      <td>363272</td>\n",
       "      <td>7.0000</td>\n",
       "      <td>NaN</td>\n",
       "      <td>S</td>\n",
       "    </tr>\n",
       "    <tr>\n",
       "      <th>894</th>\n",
       "      <td>2</td>\n",
       "      <td>Myles, Mr. Thomas Francis</td>\n",
       "      <td>male</td>\n",
       "      <td>62.0</td>\n",
       "      <td>0</td>\n",
       "      <td>0</td>\n",
       "      <td>240276</td>\n",
       "      <td>9.6875</td>\n",
       "      <td>NaN</td>\n",
       "      <td>Q</td>\n",
       "    </tr>\n",
       "    <tr>\n",
       "      <th>895</th>\n",
       "      <td>3</td>\n",
       "      <td>Wirz, Mr. Albert</td>\n",
       "      <td>male</td>\n",
       "      <td>27.0</td>\n",
       "      <td>0</td>\n",
       "      <td>0</td>\n",
       "      <td>315154</td>\n",
       "      <td>8.6625</td>\n",
       "      <td>NaN</td>\n",
       "      <td>S</td>\n",
       "    </tr>\n",
       "    <tr>\n",
       "      <th>896</th>\n",
       "      <td>3</td>\n",
       "      <td>Hirvonen, Mrs. Alexander (Helga E Lindqvist)</td>\n",
       "      <td>female</td>\n",
       "      <td>22.0</td>\n",
       "      <td>1</td>\n",
       "      <td>1</td>\n",
       "      <td>3101298</td>\n",
       "      <td>12.2875</td>\n",
       "      <td>NaN</td>\n",
       "      <td>S</td>\n",
       "    </tr>\n",
       "  </tbody>\n",
       "</table>\n",
       "</div>"
      ],
      "text/plain": [
       "             Pclass                                          Name     Sex  \\\n",
       "PassengerId                                                                 \n",
       "892               3                              Kelly, Mr. James    male   \n",
       "893               3              Wilkes, Mrs. James (Ellen Needs)  female   \n",
       "894               2                     Myles, Mr. Thomas Francis    male   \n",
       "895               3                              Wirz, Mr. Albert    male   \n",
       "896               3  Hirvonen, Mrs. Alexander (Helga E Lindqvist)  female   \n",
       "\n",
       "              Age  SibSp  Parch   Ticket     Fare Cabin Embarked  \n",
       "PassengerId                                                       \n",
       "892          34.5      0      0   330911   7.8292   NaN        Q  \n",
       "893          47.0      1      0   363272   7.0000   NaN        S  \n",
       "894          62.0      0      0   240276   9.6875   NaN        Q  \n",
       "895          27.0      0      0   315154   8.6625   NaN        S  \n",
       "896          22.0      1      1  3101298  12.2875   NaN        S  "
      ]
     },
     "execution_count": 4,
     "metadata": {},
     "output_type": "execute_result"
    }
   ],
   "source": [
    "valid.info()\n",
    "\n",
    "valid.head()"
   ]
  },
  {
   "cell_type": "code",
   "execution_count": 5,
   "id": "80dadb5d",
   "metadata": {
    "execution": {
     "iopub.execute_input": "2022-03-22T15:01:59.957405Z",
     "iopub.status.busy": "2022-03-22T15:01:59.956771Z",
     "iopub.status.idle": "2022-03-22T15:01:59.959590Z",
     "shell.execute_reply": "2022-03-22T15:01:59.959116Z",
     "shell.execute_reply.started": "2022-03-22T14:58:58.460995Z"
    },
    "papermill": {
     "duration": 0.047059,
     "end_time": "2022-03-22T15:01:59.959720",
     "exception": false,
     "start_time": "2022-03-22T15:01:59.912661",
     "status": "completed"
    },
    "tags": []
   },
   "outputs": [],
   "source": [
    "# We can see some missing values in both files\n"
   ]
  },
  {
   "cell_type": "code",
   "execution_count": 6,
   "id": "4d2d41b3",
   "metadata": {
    "execution": {
     "iopub.execute_input": "2022-03-22T15:02:00.042413Z",
     "iopub.status.busy": "2022-03-22T15:02:00.041648Z",
     "iopub.status.idle": "2022-03-22T15:02:00.049760Z",
     "shell.execute_reply": "2022-03-22T15:02:00.050394Z",
     "shell.execute_reply.started": "2022-03-22T14:58:58.467110Z"
    },
    "papermill": {
     "duration": 0.053032,
     "end_time": "2022-03-22T15:02:00.050561",
     "exception": false,
     "start_time": "2022-03-22T15:01:59.997529",
     "status": "completed"
    },
    "tags": []
   },
   "outputs": [],
   "source": [
    "# We concatenate train and valid\n",
    "\n",
    "train['df']='train'\n",
    "valid['df']='valid'\n",
    "\n",
    "df = pd.concat([train,valid] , axis=0)\n"
   ]
  },
  {
   "cell_type": "code",
   "execution_count": 7,
   "id": "1bf4eaa6",
   "metadata": {
    "execution": {
     "iopub.execute_input": "2022-03-22T15:02:00.135971Z",
     "iopub.status.busy": "2022-03-22T15:02:00.133445Z",
     "iopub.status.idle": "2022-03-22T15:02:00.145886Z",
     "shell.execute_reply": "2022-03-22T15:02:00.145282Z",
     "shell.execute_reply.started": "2022-03-22T14:58:58.491687Z"
    },
    "papermill": {
     "duration": 0.05547,
     "end_time": "2022-03-22T15:02:00.146016",
     "exception": false,
     "start_time": "2022-03-22T15:02:00.090546",
     "status": "completed"
    },
    "tags": []
   },
   "outputs": [
    {
     "name": "stdout",
     "output_type": "stream",
     "text": [
      "<class 'pandas.core.frame.DataFrame'>\n",
      "Int64Index: 1309 entries, 1 to 1309\n",
      "Data columns (total 12 columns):\n",
      " #   Column    Non-Null Count  Dtype  \n",
      "---  ------    --------------  -----  \n",
      " 0   Survived  891 non-null    float64\n",
      " 1   Pclass    1309 non-null   int64  \n",
      " 2   Name      1309 non-null   object \n",
      " 3   Sex       1309 non-null   object \n",
      " 4   Age       1046 non-null   float64\n",
      " 5   SibSp     1309 non-null   int64  \n",
      " 6   Parch     1309 non-null   int64  \n",
      " 7   Ticket    1309 non-null   object \n",
      " 8   Fare      1308 non-null   float64\n",
      " 9   Cabin     295 non-null    object \n",
      " 10  Embarked  1307 non-null   object \n",
      " 11  df        1309 non-null   object \n",
      "dtypes: float64(3), int64(3), object(6)\n",
      "memory usage: 132.9+ KB\n"
     ]
    }
   ],
   "source": [
    "df.info()\n",
    "\n"
   ]
  },
  {
   "cell_type": "code",
   "execution_count": 8,
   "id": "7444887c",
   "metadata": {
    "execution": {
     "iopub.execute_input": "2022-03-22T15:02:00.228533Z",
     "iopub.status.busy": "2022-03-22T15:02:00.227898Z",
     "iopub.status.idle": "2022-03-22T15:02:00.233120Z",
     "shell.execute_reply": "2022-03-22T15:02:00.233623Z",
     "shell.execute_reply.started": "2022-03-22T14:58:58.509790Z"
    },
    "papermill": {
     "duration": 0.047037,
     "end_time": "2022-03-22T15:02:00.233783",
     "exception": false,
     "start_time": "2022-03-22T15:02:00.186746",
     "status": "completed"
    },
    "tags": []
   },
   "outputs": [],
   "source": [
    "\n",
    "# We cand drop 3 features : Cabin,Name and Ticket\n",
    "\n",
    "df = df.drop(['Cabin', 'Name','Ticket'], axis=1)"
   ]
  },
  {
   "cell_type": "markdown",
   "id": "1743464d",
   "metadata": {
    "papermill": {
     "duration": 0.038355,
     "end_time": "2022-03-22T15:02:00.311025",
     "exception": false,
     "start_time": "2022-03-22T15:02:00.272670",
     "status": "completed"
    },
    "tags": []
   },
   "source": [
    "# Statistiques"
   ]
  },
  {
   "cell_type": "code",
   "execution_count": 9,
   "id": "cc8235de",
   "metadata": {
    "execution": {
     "iopub.execute_input": "2022-03-22T15:02:00.395159Z",
     "iopub.status.busy": "2022-03-22T15:02:00.391206Z",
     "iopub.status.idle": "2022-03-22T15:02:00.404743Z",
     "shell.execute_reply": "2022-03-22T15:02:00.404142Z",
     "shell.execute_reply.started": "2022-03-22T14:58:58.518986Z"
    },
    "papermill": {
     "duration": 0.055493,
     "end_time": "2022-03-22T15:02:00.404872",
     "exception": false,
     "start_time": "2022-03-22T15:02:00.349379",
     "status": "completed"
    },
    "tags": []
   },
   "outputs": [
    {
     "name": "stdout",
     "output_type": "stream",
     "text": [
      "Age : count    1046.000000\n",
      "mean       29.881138\n",
      "std        14.413493\n",
      "min         0.170000\n",
      "25%        21.000000\n",
      "50%        28.000000\n",
      "75%        39.000000\n",
      "max        80.000000\n",
      "Name: Age, dtype: float64\n",
      "Fare : count    1308.000000\n",
      "mean       33.295479\n",
      "std        51.758668\n",
      "min         0.000000\n",
      "25%         7.895800\n",
      "50%        14.454200\n",
      "75%        31.275000\n",
      "max       512.329200\n",
      "Name: Fare, dtype: float64\n"
     ]
    }
   ],
   "source": [
    "# NUM\n",
    "\n",
    "num_col=['Age','Fare']\n",
    "for col in num_col :  \n",
    "    print(col, \":\", df[col].describe())\n"
   ]
  },
  {
   "cell_type": "code",
   "execution_count": 10,
   "id": "e933936d",
   "metadata": {
    "execution": {
     "iopub.execute_input": "2022-03-22T15:02:00.491948Z",
     "iopub.status.busy": "2022-03-22T15:02:00.491327Z",
     "iopub.status.idle": "2022-03-22T15:02:00.504438Z",
     "shell.execute_reply": "2022-03-22T15:02:00.503861Z",
     "shell.execute_reply.started": "2022-03-22T14:58:58.538245Z"
    },
    "papermill": {
     "duration": 0.060901,
     "end_time": "2022-03-22T15:02:00.504579",
     "exception": false,
     "start_time": "2022-03-22T15:02:00.443678",
     "status": "completed"
    },
    "tags": []
   },
   "outputs": [
    {
     "name": "stdout",
     "output_type": "stream",
     "text": [
      "Survived : 0.0    549\n",
      "1.0    342\n",
      "Name: Survived, dtype: int64\n",
      "Pclass : 3    709\n",
      "1    323\n",
      "2    277\n",
      "Name: Pclass, dtype: int64\n",
      "Sex : male      843\n",
      "female    466\n",
      "Name: Sex, dtype: int64\n",
      "SibSp : 0    891\n",
      "1    319\n",
      "2     42\n",
      "4     22\n",
      "3     20\n",
      "8      9\n",
      "5      6\n",
      "Name: SibSp, dtype: int64\n",
      "Parch : 0    1002\n",
      "1     170\n",
      "2     113\n",
      "3       8\n",
      "5       6\n",
      "4       6\n",
      "6       2\n",
      "9       2\n",
      "Name: Parch, dtype: int64\n",
      "Embarked : S    914\n",
      "C    270\n",
      "Q    123\n",
      "Name: Embarked, dtype: int64\n",
      "df : train    891\n",
      "valid    418\n",
      "Name: df, dtype: int64\n"
     ]
    }
   ],
   "source": [
    "# CAT\n",
    "\n",
    "for col in df.columns : \n",
    "    if col not in num_col : \n",
    "        print(col, \":\", df[col].value_counts())"
   ]
  },
  {
   "cell_type": "code",
   "execution_count": 11,
   "id": "0769fa3e",
   "metadata": {
    "execution": {
     "iopub.execute_input": "2022-03-22T15:02:00.594664Z",
     "iopub.status.busy": "2022-03-22T15:02:00.585944Z",
     "iopub.status.idle": "2022-03-22T15:02:00.597664Z",
     "shell.execute_reply": "2022-03-22T15:02:00.597111Z",
     "shell.execute_reply.started": "2022-03-22T14:58:58.559893Z"
    },
    "papermill": {
     "duration": 0.05357,
     "end_time": "2022-03-22T15:02:00.597804",
     "exception": false,
     "start_time": "2022-03-22T15:02:00.544234",
     "status": "completed"
    },
    "tags": []
   },
   "outputs": [
    {
     "name": "stdout",
     "output_type": "stream",
     "text": [
      "<class 'pandas.core.frame.DataFrame'>\n",
      "Int64Index: 1309 entries, 1 to 1309\n",
      "Data columns (total 9 columns):\n",
      " #   Column    Non-Null Count  Dtype  \n",
      "---  ------    --------------  -----  \n",
      " 0   Survived  891 non-null    float64\n",
      " 1   Pclass    1309 non-null   int64  \n",
      " 2   Sex       1309 non-null   object \n",
      " 3   Age       1046 non-null   float64\n",
      " 4   SibSp     1309 non-null   int64  \n",
      " 5   Parch     1309 non-null   int64  \n",
      " 6   Fare      1308 non-null   float64\n",
      " 7   Embarked  1307 non-null   object \n",
      " 8   df        1309 non-null   object \n",
      "dtypes: float64(3), int64(3), object(3)\n",
      "memory usage: 102.3+ KB\n"
     ]
    }
   ],
   "source": [
    "df.info()"
   ]
  },
  {
   "cell_type": "code",
   "execution_count": 12,
   "id": "cfc87534",
   "metadata": {
    "execution": {
     "iopub.execute_input": "2022-03-22T15:02:00.683298Z",
     "iopub.status.busy": "2022-03-22T15:02:00.682673Z",
     "iopub.status.idle": "2022-03-22T15:02:00.877609Z",
     "shell.execute_reply": "2022-03-22T15:02:00.876984Z",
     "shell.execute_reply.started": "2022-03-22T14:58:58.576074Z"
    },
    "papermill": {
     "duration": 0.24017,
     "end_time": "2022-03-22T15:02:00.877754",
     "exception": false,
     "start_time": "2022-03-22T15:02:00.637584",
     "status": "completed"
    },
    "tags": []
   },
   "outputs": [
    {
     "data": {
      "image/png": "[encoded data removed]",
      "text/plain": [
       "<Figure size 432x288 with 1 Axes>"
      ]
     },
     "metadata": {},
     "output_type": "display_data"
    }
   ],
   "source": [
    "\n",
    "p=sns.countplot(x='Survived',  data=train)\n",
    "p.set(title = \"Variable survie\")\n",
    "plt.show()"
   ]
  },
  {
   "cell_type": "code",
   "execution_count": 13,
   "id": "fdad9640",
   "metadata": {
    "execution": {
     "iopub.execute_input": "2022-03-22T15:02:00.968053Z",
     "iopub.status.busy": "2022-03-22T15:02:00.967414Z",
     "iopub.status.idle": "2022-03-22T15:02:01.379661Z",
     "shell.execute_reply": "2022-03-22T15:02:01.378854Z",
     "shell.execute_reply.started": "2022-03-22T14:58:58.792980Z"
    },
    "papermill": {
     "duration": 0.459365,
     "end_time": "2022-03-22T15:02:01.379801",
     "exception": false,
     "start_time": "2022-03-22T15:02:00.920436",
     "status": "completed"
    },
    "tags": []
   },
   "outputs": [
    {
     "data": {
      "image/png": "[encoded data removed]",
      "text/plain": [
       "<Figure size 360x360 with 1 Axes>"
      ]
     },
     "metadata": {},
     "output_type": "display_data"
    }
   ],
   "source": [
    "# Distribution of Age\n",
    "\n",
    "p=sns.displot(df['Age'], bins=15, kind='hist', kde=1)\n",
    "p.set(title = \"Distribution de la variable age\")\n",
    "plt.show()\n"
   ]
  },
  {
   "cell_type": "code",
   "execution_count": 14,
   "id": "9a5fe218",
   "metadata": {
    "execution": {
     "iopub.execute_input": "2022-03-22T15:02:01.473134Z",
     "iopub.status.busy": "2022-03-22T15:02:01.472492Z",
     "iopub.status.idle": "2022-03-22T15:02:01.672399Z",
     "shell.execute_reply": "2022-03-22T15:02:01.672928Z",
     "shell.execute_reply.started": "2022-03-22T14:58:59.277697Z"
    },
    "papermill": {
     "duration": 0.248456,
     "end_time": "2022-03-22T15:02:01.673103",
     "exception": false,
     "start_time": "2022-03-22T15:02:01.424647",
     "status": "completed"
    },
    "tags": []
   },
   "outputs": [
    {
     "data": {
      "image/png": "[encoded data removed]",
      "text/plain": [
       "<Figure size 432x288 with 1 Axes>"
      ]
     },
     "metadata": {},
     "output_type": "display_data"
    }
   ],
   "source": [
    "\n",
    "p=sns.boxplot( y='Age', x='Survived', data=df)\n",
    "p.set(title = \"Distribution de l'age en fonction de la survie\")\n",
    "plt.show()"
   ]
  },
  {
   "cell_type": "code",
   "execution_count": 15,
   "id": "b6dec38b",
   "metadata": {
    "execution": {
     "iopub.execute_input": "2022-03-22T15:02:01.764120Z",
     "iopub.status.busy": "2022-03-22T15:02:01.760864Z",
     "iopub.status.idle": "2022-03-22T15:02:01.970824Z",
     "shell.execute_reply": "2022-03-22T15:02:01.971335Z",
     "shell.execute_reply.started": "2022-03-22T14:58:59.509805Z"
    },
    "papermill": {
     "duration": 0.255541,
     "end_time": "2022-03-22T15:02:01.971499",
     "exception": false,
     "start_time": "2022-03-22T15:02:01.715958",
     "status": "completed"
    },
    "tags": []
   },
   "outputs": [
    {
     "data": {
      "image/png": "[encoded data removed]",
      "text/plain": [
       "<Figure size 432x288 with 1 Axes>"
      ]
     },
     "metadata": {},
     "output_type": "display_data"
    }
   ],
   "source": [
    "\n",
    "\n",
    "sns.countplot(x='Pclass', hue='Survived', data=df)\n",
    "p.set(title = \"Croisement entre classe et survie\")\n",
    "plt.show()\n",
    "\n"
   ]
  },
  {
   "cell_type": "code",
   "execution_count": 16,
   "id": "eae6d309",
   "metadata": {
    "execution": {
     "iopub.execute_input": "2022-03-22T15:02:02.062658Z",
     "iopub.status.busy": "2022-03-22T15:02:02.061783Z",
     "iopub.status.idle": "2022-03-22T15:02:02.248207Z",
     "shell.execute_reply": "2022-03-22T15:02:02.248705Z",
     "shell.execute_reply.started": "2022-03-22T14:58:59.729368Z"
    },
    "papermill": {
     "duration": 0.233516,
     "end_time": "2022-03-22T15:02:02.248863",
     "exception": false,
     "start_time": "2022-03-22T15:02:02.015347",
     "status": "completed"
    },
    "tags": []
   },
   "outputs": [
    {
     "data": {
      "image/png": "[encoded data removed]",
      "text/plain": [
       "<Figure size 432x288 with 1 Axes>"
      ]
     },
     "metadata": {},
     "output_type": "display_data"
    }
   ],
   "source": [
    "\n",
    "\n",
    "sns.countplot(x='Sex', hue='Survived', data=df)\n",
    "p.set(title = \"Croisement entre genre et survie\")\n",
    "plt.show()\n",
    "\n"
   ]
  },
  {
   "cell_type": "code",
   "execution_count": 17,
   "id": "362885f7",
   "metadata": {
    "execution": {
     "iopub.execute_input": "2022-03-22T15:02:02.340092Z",
     "iopub.status.busy": "2022-03-22T15:02:02.339509Z",
     "iopub.status.idle": "2022-03-22T15:02:02.551358Z",
     "shell.execute_reply": "2022-03-22T15:02:02.551813Z",
     "shell.execute_reply.started": "2022-03-22T14:58:59.925722Z"
    },
    "papermill": {
     "duration": 0.259441,
     "end_time": "2022-03-22T15:02:02.551967",
     "exception": false,
     "start_time": "2022-03-22T15:02:02.292526",
     "status": "completed"
    },
    "tags": []
   },
   "outputs": [
    {
     "data": {
      "image/png": "[encoded data removed]",
      "text/plain": [
       "<Figure size 432x288 with 1 Axes>"
      ]
     },
     "metadata": {},
     "output_type": "display_data"
    }
   ],
   "source": [
    "\n",
    "sns.countplot(x='Embarked', hue='Survived', data=train)\n",
    "p.set(title = \"Croisement entre port d'embarquement et survie\")\n",
    "plt.show()"
   ]
  },
  {
   "cell_type": "markdown",
   "id": "77bea1b4",
   "metadata": {
    "papermill": {
     "duration": 0.045001,
     "end_time": "2022-03-22T15:02:02.641978",
     "exception": false,
     "start_time": "2022-03-22T15:02:02.596977",
     "status": "completed"
    },
    "tags": []
   },
   "source": [
    "# Preprocessing"
   ]
  },
  {
   "cell_type": "code",
   "execution_count": 18,
   "id": "df7c9e08",
   "metadata": {
    "execution": {
     "iopub.execute_input": "2022-03-22T15:02:02.735474Z",
     "iopub.status.busy": "2022-03-22T15:02:02.734873Z",
     "iopub.status.idle": "2022-03-22T15:02:02.742170Z",
     "shell.execute_reply": "2022-03-22T15:02:02.742615Z",
     "shell.execute_reply.started": "2022-03-22T14:59:00.150117Z"
    },
    "papermill": {
     "duration": 0.055648,
     "end_time": "2022-03-22T15:02:02.742777",
     "exception": false,
     "start_time": "2022-03-22T15:02:02.687129",
     "status": "completed"
    },
    "tags": []
   },
   "outputs": [],
   "source": [
    "# Fill missing values : \n",
    "\n",
    "# AGE : on remplace par la moyenne\n",
    "df['Age'].replace( { np.NaN : df['Age'].median() } , inplace=True)\n",
    "\n",
    "\n",
    "# EMBARKED : par le mode\n",
    "df['Embarked'].replace( { np.NaN :df['Embarked'].mode()[0] } , inplace=True)\n",
    "\n",
    "\n",
    "# Fare : moyenne\n",
    "df['Fare'].replace( { np.NaN : df['Fare'].median() } , inplace=True)\n"
   ]
  },
  {
   "cell_type": "code",
   "execution_count": 19,
   "id": "e2220205",
   "metadata": {
    "execution": {
     "iopub.execute_input": "2022-03-22T15:02:02.836225Z",
     "iopub.status.busy": "2022-03-22T15:02:02.835622Z",
     "iopub.status.idle": "2022-03-22T15:02:02.846572Z",
     "shell.execute_reply": "2022-03-22T15:02:02.847238Z",
     "shell.execute_reply.started": "2022-03-22T14:59:00.160290Z"
    },
    "papermill": {
     "duration": 0.059146,
     "end_time": "2022-03-22T15:02:02.847515",
     "exception": false,
     "start_time": "2022-03-22T15:02:02.788369",
     "status": "completed"
    },
    "tags": []
   },
   "outputs": [
    {
     "name": "stdout",
     "output_type": "stream",
     "text": [
      "<class 'pandas.core.frame.DataFrame'>\n",
      "Int64Index: 1309 entries, 1 to 1309\n",
      "Data columns (total 9 columns):\n",
      " #   Column    Non-Null Count  Dtype  \n",
      "---  ------    --------------  -----  \n",
      " 0   Survived  891 non-null    float64\n",
      " 1   Pclass    1309 non-null   int64  \n",
      " 2   Sex       1309 non-null   object \n",
      " 3   Age       1309 non-null   float64\n",
      " 4   SibSp     1309 non-null   int64  \n",
      " 5   Parch     1309 non-null   int64  \n",
      " 6   Fare      1309 non-null   float64\n",
      " 7   Embarked  1309 non-null   object \n",
      " 8   df        1309 non-null   object \n",
      "dtypes: float64(3), int64(3), object(3)\n",
      "memory usage: 134.6+ KB\n"
     ]
    }
   ],
   "source": [
    "df.info()"
   ]
  },
  {
   "cell_type": "code",
   "execution_count": 20,
   "id": "eb903810",
   "metadata": {
    "execution": {
     "iopub.execute_input": "2022-03-22T15:02:02.947670Z",
     "iopub.status.busy": "2022-03-22T15:02:02.944524Z",
     "iopub.status.idle": "2022-03-22T15:02:02.956299Z",
     "shell.execute_reply": "2022-03-22T15:02:02.956861Z",
     "shell.execute_reply.started": "2022-03-22T14:59:00.181053Z"
    },
    "papermill": {
     "duration": 0.062734,
     "end_time": "2022-03-22T15:02:02.957035",
     "exception": false,
     "start_time": "2022-03-22T15:02:02.894301",
     "status": "completed"
    },
    "tags": []
   },
   "outputs": [
    {
     "data": {
      "text/plain": [
       "(1309, 13)"
      ]
     },
     "execution_count": 20,
     "metadata": {},
     "output_type": "execute_result"
    }
   ],
   "source": [
    "# Get Dummy\n",
    "\n",
    "df_discret = pd.get_dummies(data = df )\n",
    "\n",
    "df_discret.shape"
   ]
  },
  {
   "cell_type": "code",
   "execution_count": 21,
   "id": "da1f75dc",
   "metadata": {
    "execution": {
     "iopub.execute_input": "2022-03-22T15:02:03.052493Z",
     "iopub.status.busy": "2022-03-22T15:02:03.051582Z",
     "iopub.status.idle": "2022-03-22T15:02:03.067628Z",
     "shell.execute_reply": "2022-03-22T15:02:03.067111Z",
     "shell.execute_reply.started": "2022-03-22T14:59:00.196106Z"
    },
    "papermill": {
     "duration": 0.064662,
     "end_time": "2022-03-22T15:02:03.067760",
     "exception": false,
     "start_time": "2022-03-22T15:02:03.003098",
     "status": "completed"
    },
    "tags": []
   },
   "outputs": [
    {
     "data": {
      "text/html": [
       "<div>\n",
       "<style scoped>\n",
       "    .dataframe tbody tr th:only-of-type {\n",
       "        vertical-align: middle;\n",
       "    }\n",
       "\n",
       "    .dataframe tbody tr th {\n",
       "        vertical-align: top;\n",
       "    }\n",
       "\n",
       "    .dataframe thead th {\n",
       "        text-align: right;\n",
       "    }\n",
       "</style>\n",
       "<table border=\"1\" class=\"dataframe\">\n",
       "  <thead>\n",
       "    <tr style=\"text-align: right;\">\n",
       "      <th></th>\n",
       "      <th>Survived</th>\n",
       "      <th>Pclass</th>\n",
       "      <th>Age</th>\n",
       "      <th>SibSp</th>\n",
       "      <th>Parch</th>\n",
       "      <th>Fare</th>\n",
       "      <th>Sex_female</th>\n",
       "      <th>Sex_male</th>\n",
       "      <th>Embarked_C</th>\n",
       "      <th>Embarked_Q</th>\n",
       "      <th>Embarked_S</th>\n",
       "      <th>df_train</th>\n",
       "      <th>df_valid</th>\n",
       "    </tr>\n",
       "    <tr>\n",
       "      <th>PassengerId</th>\n",
       "      <th></th>\n",
       "      <th></th>\n",
       "      <th></th>\n",
       "      <th></th>\n",
       "      <th></th>\n",
       "      <th></th>\n",
       "      <th></th>\n",
       "      <th></th>\n",
       "      <th></th>\n",
       "      <th></th>\n",
       "      <th></th>\n",
       "      <th></th>\n",
       "      <th></th>\n",
       "    </tr>\n",
       "  </thead>\n",
       "  <tbody>\n",
       "    <tr>\n",
       "      <th>1</th>\n",
       "      <td>0.0</td>\n",
       "      <td>3</td>\n",
       "      <td>22.0</td>\n",
       "      <td>1</td>\n",
       "      <td>0</td>\n",
       "      <td>7.2500</td>\n",
       "      <td>0</td>\n",
       "      <td>1</td>\n",
       "      <td>0</td>\n",
       "      <td>0</td>\n",
       "      <td>1</td>\n",
       "      <td>1</td>\n",
       "      <td>0</td>\n",
       "    </tr>\n",
       "    <tr>\n",
       "      <th>2</th>\n",
       "      <td>1.0</td>\n",
       "      <td>1</td>\n",
       "      <td>38.0</td>\n",
       "      <td>1</td>\n",
       "      <td>0</td>\n",
       "      <td>71.2833</td>\n",
       "      <td>1</td>\n",
       "      <td>0</td>\n",
       "      <td>1</td>\n",
       "      <td>0</td>\n",
       "      <td>0</td>\n",
       "      <td>1</td>\n",
       "      <td>0</td>\n",
       "    </tr>\n",
       "    <tr>\n",
       "      <th>3</th>\n",
       "      <td>1.0</td>\n",
       "      <td>3</td>\n",
       "      <td>26.0</td>\n",
       "      <td>0</td>\n",
       "      <td>0</td>\n",
       "      <td>7.9250</td>\n",
       "      <td>1</td>\n",
       "      <td>0</td>\n",
       "      <td>0</td>\n",
       "      <td>0</td>\n",
       "      <td>1</td>\n",
       "      <td>1</td>\n",
       "      <td>0</td>\n",
       "    </tr>\n",
       "    <tr>\n",
       "      <th>4</th>\n",
       "      <td>1.0</td>\n",
       "      <td>1</td>\n",
       "      <td>35.0</td>\n",
       "      <td>1</td>\n",
       "      <td>0</td>\n",
       "      <td>53.1000</td>\n",
       "      <td>1</td>\n",
       "      <td>0</td>\n",
       "      <td>0</td>\n",
       "      <td>0</td>\n",
       "      <td>1</td>\n",
       "      <td>1</td>\n",
       "      <td>0</td>\n",
       "    </tr>\n",
       "    <tr>\n",
       "      <th>5</th>\n",
       "      <td>0.0</td>\n",
       "      <td>3</td>\n",
       "      <td>35.0</td>\n",
       "      <td>0</td>\n",
       "      <td>0</td>\n",
       "      <td>8.0500</td>\n",
       "      <td>0</td>\n",
       "      <td>1</td>\n",
       "      <td>0</td>\n",
       "      <td>0</td>\n",
       "      <td>1</td>\n",
       "      <td>1</td>\n",
       "      <td>0</td>\n",
       "    </tr>\n",
       "  </tbody>\n",
       "</table>\n",
       "</div>"
      ],
      "text/plain": [
       "             Survived  Pclass   Age  SibSp  Parch     Fare  Sex_female  \\\n",
       "PassengerId                                                              \n",
       "1                 0.0       3  22.0      1      0   7.2500           0   \n",
       "2                 1.0       1  38.0      1      0  71.2833           1   \n",
       "3                 1.0       3  26.0      0      0   7.9250           1   \n",
       "4                 1.0       1  35.0      1      0  53.1000           1   \n",
       "5                 0.0       3  35.0      0      0   8.0500           0   \n",
       "\n",
       "             Sex_male  Embarked_C  Embarked_Q  Embarked_S  df_train  df_valid  \n",
       "PassengerId                                                                    \n",
       "1                   1           0           0           1         1         0  \n",
       "2                   0           1           0           0         1         0  \n",
       "3                   0           0           0           1         1         0  \n",
       "4                   0           0           0           1         1         0  \n",
       "5                   1           0           0           1         1         0  "
      ]
     },
     "execution_count": 21,
     "metadata": {},
     "output_type": "execute_result"
    }
   ],
   "source": [
    "df_discret.head()"
   ]
  },
  {
   "cell_type": "code",
   "execution_count": 22,
   "id": "d932d252",
   "metadata": {
    "execution": {
     "iopub.execute_input": "2022-03-22T15:02:03.171802Z",
     "iopub.status.busy": "2022-03-22T15:02:03.171149Z",
     "iopub.status.idle": "2022-03-22T15:02:03.177656Z",
     "shell.execute_reply": "2022-03-22T15:02:03.178160Z",
     "shell.execute_reply.started": "2022-03-22T14:59:00.214626Z"
    },
    "papermill": {
     "duration": 0.06287,
     "end_time": "2022-03-22T15:02:03.178338",
     "exception": false,
     "start_time": "2022-03-22T15:02:03.115468",
     "status": "completed"
    },
    "tags": []
   },
   "outputs": [
    {
     "name": "stdout",
     "output_type": "stream",
     "text": [
      "(891, 13)\n",
      "(418, 13)\n"
     ]
    }
   ],
   "source": [
    "# We split the 2 dataframes\n",
    "\n",
    "\n",
    "train2 = df_discret[df_discret['df_train']==1]\n",
    "valid2 = df_discret[df_discret['df_valid']==1]\n",
    "\n",
    "\n",
    "print(train2.shape)\n",
    "print(valid2.shape)"
   ]
  },
  {
   "cell_type": "code",
   "execution_count": 23,
   "id": "355d00d7",
   "metadata": {
    "execution": {
     "iopub.execute_input": "2022-03-22T15:02:03.276361Z",
     "iopub.status.busy": "2022-03-22T15:02:03.275670Z",
     "iopub.status.idle": "2022-03-22T15:02:03.281310Z",
     "shell.execute_reply": "2022-03-22T15:02:03.281809Z",
     "shell.execute_reply.started": "2022-03-22T14:59:00.226351Z"
    },
    "papermill": {
     "duration": 0.055979,
     "end_time": "2022-03-22T15:02:03.281959",
     "exception": false,
     "start_time": "2022-03-22T15:02:03.225980",
     "status": "completed"
    },
    "tags": []
   },
   "outputs": [],
   "source": [
    "# We drop these columns\n",
    "\n",
    "\n",
    "train2 = train2.drop(['df_train', 'df_valid'], axis=1)\n",
    "\n",
    "valid2 = valid2.drop(['df_train', 'df_valid','Survived'], axis=1)"
   ]
  },
  {
   "cell_type": "code",
   "execution_count": 24,
   "id": "92d1b4a4",
   "metadata": {
    "execution": {
     "iopub.execute_input": "2022-03-22T15:02:03.380928Z",
     "iopub.status.busy": "2022-03-22T15:02:03.380325Z",
     "iopub.status.idle": "2022-03-22T15:02:03.388087Z",
     "shell.execute_reply": "2022-03-22T15:02:03.388619Z",
     "shell.execute_reply.started": "2022-03-22T14:59:00.236055Z"
    },
    "papermill": {
     "duration": 0.058031,
     "end_time": "2022-03-22T15:02:03.388775",
     "exception": false,
     "start_time": "2022-03-22T15:02:03.330744",
     "status": "completed"
    },
    "tags": []
   },
   "outputs": [],
   "source": [
    "# Train test split\n",
    "\n",
    "target = train2['Survived']\n",
    "features= train2.drop('Survived', axis=1)\n",
    "\n",
    "X_train, X_test, y_train, y_test = train_test_split(features, target,stratify=target, test_size = 0.2, random_state=50)\n"
   ]
  },
  {
   "cell_type": "code",
   "execution_count": 25,
   "id": "5fceae3a",
   "metadata": {
    "execution": {
     "iopub.execute_input": "2022-03-22T15:02:03.486521Z",
     "iopub.status.busy": "2022-03-22T15:02:03.485813Z",
     "iopub.status.idle": "2022-03-22T15:02:03.496716Z",
     "shell.execute_reply": "2022-03-22T15:02:03.497236Z",
     "shell.execute_reply.started": "2022-03-22T14:59:00.251795Z"
    },
    "papermill": {
     "duration": 0.061255,
     "end_time": "2022-03-22T15:02:03.497403",
     "exception": false,
     "start_time": "2022-03-22T15:02:03.436148",
     "status": "completed"
    },
    "tags": []
   },
   "outputs": [],
   "source": [
    "# StandardScaler\n",
    "\n",
    "scaler= StandardScaler()\n",
    "\n",
    "X_train_scaled  = scaler.fit_transform (X_train)\n",
    "\n",
    "X_test_scaled = scaler.transform ( X_test)\n",
    "\n",
    "valid_scaled = scaler.transform ( valid2)"
   ]
  },
  {
   "cell_type": "markdown",
   "id": "0bc0eaec",
   "metadata": {
    "papermill": {
     "duration": 0.047292,
     "end_time": "2022-03-22T15:02:03.592200",
     "exception": false,
     "start_time": "2022-03-22T15:02:03.544908",
     "status": "completed"
    },
    "tags": []
   },
   "source": [
    "# Creation of 4 models\n"
   ]
  },
  {
   "cell_type": "code",
   "execution_count": 26,
   "id": "0279d213",
   "metadata": {
    "execution": {
     "iopub.execute_input": "2022-03-22T15:02:03.692135Z",
     "iopub.status.busy": "2022-03-22T15:02:03.691443Z",
     "iopub.status.idle": "2022-03-22T15:02:03.723127Z",
     "shell.execute_reply": "2022-03-22T15:02:03.722536Z",
     "shell.execute_reply.started": "2022-03-22T14:59:00.273305Z"
    },
    "papermill": {
     "duration": 0.08308,
     "end_time": "2022-03-22T15:02:03.723267",
     "exception": false,
     "start_time": "2022-03-22T15:02:03.640187",
     "status": "completed"
    },
    "tags": []
   },
   "outputs": [
    {
     "name": "stdout",
     "output_type": "stream",
     "text": [
      "Results on test\n",
      "Prediction  0.0  1.0\n",
      "Truth               \n",
      "0.0          97   13\n",
      "1.0          20   49\n",
      "              precision    recall  f1-score   support\n",
      "\n",
      "         0.0       0.83      0.88      0.85       110\n",
      "         1.0       0.79      0.71      0.75        69\n",
      "\n",
      "    accuracy                           0.82       179\n",
      "   macro avg       0.81      0.80      0.80       179\n",
      "weighted avg       0.81      0.82      0.81       179\n",
      "\n"
     ]
    }
   ],
   "source": [
    "# Logistic Regression\n",
    "\n",
    "clf_lr= LogisticRegression().fit(X_train_scaled,y_train)\n",
    "\n",
    "y_pred_test_lr = clf_lr.predict(X_test_scaled)\n",
    "\n",
    "\n",
    "print(\"Results on test\")\n",
    "print(pd.crosstab(y_test, y_pred_test_lr, rownames=['Truth'], colnames=['Prediction']))\n",
    "print (classification_report(y_test, y_pred_test_lr))\n"
   ]
  },
  {
   "cell_type": "code",
   "execution_count": 27,
   "id": "b46e7cc0",
   "metadata": {
    "execution": {
     "iopub.execute_input": "2022-03-22T15:02:03.825642Z",
     "iopub.status.busy": "2022-03-22T15:02:03.824611Z",
     "iopub.status.idle": "2022-03-22T15:02:03.859395Z",
     "shell.execute_reply": "2022-03-22T15:02:03.859909Z",
     "shell.execute_reply.started": "2022-03-22T14:59:00.309729Z"
    },
    "papermill": {
     "duration": 0.08726,
     "end_time": "2022-03-22T15:02:03.860113",
     "exception": false,
     "start_time": "2022-03-22T15:02:03.772853",
     "status": "completed"
    },
    "tags": []
   },
   "outputs": [
    {
     "name": "stdout",
     "output_type": "stream",
     "text": [
      "Results on test\n",
      "Prediction  0.0  1.0\n",
      "Truth               \n",
      "0.0         100   10\n",
      "1.0          18   51\n",
      "              precision    recall  f1-score   support\n",
      "\n",
      "         0.0       0.85      0.91      0.88       110\n",
      "         1.0       0.84      0.74      0.78        69\n",
      "\n",
      "    accuracy                           0.84       179\n",
      "   macro avg       0.84      0.82      0.83       179\n",
      "weighted avg       0.84      0.84      0.84       179\n",
      "\n"
     ]
    }
   ],
   "source": [
    "# KNN (5 Neighbors)\n",
    "\n",
    "knn =  neighbors.KNeighborsClassifier()\n",
    "\n",
    "knn.fit(X_train_scaled,y_train)\n",
    "\n",
    "y_pred_test_knn = knn.predict(X_test_scaled)\n",
    "\n",
    "print(\"Results on test\")\n",
    "print(pd.crosstab(y_test, y_pred_test_knn, rownames=['Truth'], colnames=['Prediction']))\n",
    "print (classification_report(y_test, y_pred_test_knn))"
   ]
  },
  {
   "cell_type": "code",
   "execution_count": 28,
   "id": "fccf37ce",
   "metadata": {
    "execution": {
     "iopub.execute_input": "2022-03-22T15:02:03.965489Z",
     "iopub.status.busy": "2022-03-22T15:02:03.962300Z",
     "iopub.status.idle": "2022-03-22T15:02:04.204309Z",
     "shell.execute_reply": "2022-03-22T15:02:04.204794Z",
     "shell.execute_reply.started": "2022-03-22T14:59:00.346764Z"
    },
    "papermill": {
     "duration": 0.294618,
     "end_time": "2022-03-22T15:02:04.204959",
     "exception": false,
     "start_time": "2022-03-22T15:02:03.910341",
     "status": "completed"
    },
    "tags": []
   },
   "outputs": [
    {
     "name": "stdout",
     "output_type": "stream",
     "text": [
      "Results on test\n",
      "Prediction  0.0  1.0\n",
      "Truth               \n",
      "0.0         101    9\n",
      "1.0          20   49\n",
      "              precision    recall  f1-score   support\n",
      "\n",
      "         0.0       0.83      0.92      0.87       110\n",
      "         1.0       0.84      0.71      0.77        69\n",
      "\n",
      "    accuracy                           0.84       179\n",
      "   macro avg       0.84      0.81      0.82       179\n",
      "weighted avg       0.84      0.84      0.83       179\n",
      "\n"
     ]
    }
   ],
   "source": [
    "# Random Forest (100 trees)\n",
    " \n",
    "rf = ensemble.RandomForestClassifier()\n",
    "\n",
    "rf.fit(X_train_scaled,y_train)\n",
    "\n",
    "y_pred_test_rf = rf.predict(X_test_scaled)\n",
    "\n",
    "print(\"Results on test\")\n",
    "print(pd.crosstab(y_test, y_pred_test_rf, rownames=['Truth'], colnames=['Prediction']))\n",
    "print (classification_report(y_test, y_pred_test_rf))\n"
   ]
  },
  {
   "cell_type": "code",
   "execution_count": 29,
   "id": "b78877bc",
   "metadata": {
    "execution": {
     "iopub.execute_input": "2022-03-22T15:02:04.309284Z",
     "iopub.status.busy": "2022-03-22T15:02:04.308567Z",
     "iopub.status.idle": "2022-03-22T15:02:04.435787Z",
     "shell.execute_reply": "2022-03-22T15:02:04.435187Z",
     "shell.execute_reply.started": "2022-03-22T14:59:00.597693Z"
    },
    "papermill": {
     "duration": 0.182326,
     "end_time": "2022-03-22T15:02:04.435914",
     "exception": false,
     "start_time": "2022-03-22T15:02:04.253588",
     "status": "completed"
    },
    "tags": []
   },
   "outputs": [
    {
     "name": "stdout",
     "output_type": "stream",
     "text": [
      "Results on test\n",
      "Prediction  0.0  1.0\n",
      "Truth               \n",
      "0.0          97   13\n",
      "1.0          20   49\n",
      "              precision    recall  f1-score   support\n",
      "\n",
      "         0.0       0.83      0.88      0.85       110\n",
      "         1.0       0.79      0.71      0.75        69\n",
      "\n",
      "    accuracy                           0.82       179\n",
      "   macro avg       0.81      0.80      0.80       179\n",
      "weighted avg       0.81      0.82      0.81       179\n",
      "\n"
     ]
    }
   ],
   "source": [
    "# GradientBoostingClassifier ( 100 estimators)\n",
    "\n",
    "clf = GradientBoostingClassifier()\n",
    "\n",
    "clf.fit(X_train_scaled,y_train)\n",
    "\n",
    "y_pred_test_gbc = clf.predict(X_test_scaled)\n",
    "\n",
    "print(\"Results on test\")\n",
    "print(pd.crosstab(y_test, y_pred_test_gbc, rownames=['Truth'], colnames=['Prediction']))\n",
    "print (classification_report(y_test, y_pred_test_gbc))\n"
   ]
  },
  {
   "cell_type": "code",
   "execution_count": 30,
   "id": "6453a1a0",
   "metadata": {
    "execution": {
     "iopub.execute_input": "2022-03-22T15:02:04.539547Z",
     "iopub.status.busy": "2022-03-22T15:02:04.538838Z",
     "iopub.status.idle": "2022-03-22T15:02:04.897137Z",
     "shell.execute_reply": "2022-03-22T15:02:04.897668Z",
     "shell.execute_reply.started": "2022-03-22T14:59:00.728108Z"
    },
    "papermill": {
     "duration": 0.411221,
     "end_time": "2022-03-22T15:02:04.897830",
     "exception": false,
     "start_time": "2022-03-22T15:02:04.486609",
     "status": "completed"
    },
    "tags": []
   },
   "outputs": [
    {
     "name": "stdout",
     "output_type": "stream",
     "text": [
      "Prediction  0.0  1.0\n",
      "Truth               \n",
      "0.0         104    6\n",
      "1.0          20   49\n",
      "              precision    recall  f1-score   support\n",
      "\n",
      "         0.0       0.84      0.95      0.89       110\n",
      "         1.0       0.89      0.71      0.79        69\n",
      "\n",
      "    accuracy                           0.85       179\n",
      "   macro avg       0.86      0.83      0.84       179\n",
      "weighted avg       0.86      0.85      0.85       179\n",
      "\n"
     ]
    }
   ],
   "source": [
    "# Maybe we can improve the performance with a Voting classifier combining  the 4 models\n",
    "\n",
    "\n",
    "vc = VotingClassifier([('lr', clf_lr),('knn', knn), ('rf', rf), ('clf', clf)])\n",
    "\n",
    "vc.fit(X_train_scaled,y_train)\n",
    "\n",
    "y_pred_test_vc = vc.predict(X_test_scaled)\n",
    "\n",
    "print(pd.crosstab(y_test, y_pred_test_vc, rownames=['Truth'], colnames=['Prediction']))\n",
    "print (classification_report(y_test, y_pred_test_vc))"
   ]
  },
  {
   "cell_type": "markdown",
   "id": "0384321d",
   "metadata": {
    "papermill": {
     "duration": 0.048356,
     "end_time": "2022-03-22T15:02:04.994617",
     "exception": false,
     "start_time": "2022-03-22T15:02:04.946261",
     "status": "completed"
    },
    "tags": []
   },
   "source": [
    "# Conclusion"
   ]
  },
  {
   "cell_type": "code",
   "execution_count": 31,
   "id": "699a49a1",
   "metadata": {
    "execution": {
     "iopub.execute_input": "2022-03-22T15:02:05.099779Z",
     "iopub.status.busy": "2022-03-22T15:02:05.096072Z",
     "iopub.status.idle": "2022-03-22T15:02:05.155049Z",
     "shell.execute_reply": "2022-03-22T15:02:05.155570Z",
     "shell.execute_reply.started": "2022-03-22T14:59:01.098898Z"
    },
    "papermill": {
     "duration": 0.112933,
     "end_time": "2022-03-22T15:02:05.155739",
     "exception": false,
     "start_time": "2022-03-22T15:02:05.042806",
     "status": "completed"
    },
    "tags": []
   },
   "outputs": [
    {
     "name": "stdout",
     "output_type": "stream",
     "text": [
      "Score - régression logistique : 0.8156424581005587\n",
      "Score - KNN : 0.8435754189944135\n",
      "Score - random forest : 0.8379888268156425\n",
      "Score - gradient boosting classifier: 0.8156424581005587\n",
      "Score - voting classifier : 0.8547486033519553\n"
     ]
    }
   ],
   "source": [
    "\n",
    "print(\"Score - régression logistique :\",clf_lr.score(X_test_scaled, y_test))\n",
    "print(\"Score - KNN :\",knn.score(X_test_scaled, y_test))\n",
    "print(\"Score - random forest :\",rf.score(X_test_scaled, y_test))\n",
    "print(\"Score - gradient boosting classifier:\",clf.score(X_test_scaled, y_test))\n",
    "print(\"Score - voting classifier :\",vc.score(X_test_scaled, y_test))\n",
    "\n",
    "\n"
   ]
  },
  {
   "cell_type": "markdown",
   "id": "91d9007a",
   "metadata": {
    "papermill": {
     "duration": 0.048151,
     "end_time": "2022-03-22T15:02:05.252895",
     "exception": false,
     "start_time": "2022-03-22T15:02:05.204744",
     "status": "completed"
    },
    "tags": []
   },
   "source": [
    "# Kaggle Submission "
   ]
  },
  {
   "cell_type": "code",
   "execution_count": 32,
   "id": "1e283120",
   "metadata": {
    "execution": {
     "iopub.execute_input": "2022-03-22T15:02:05.353297Z",
     "iopub.status.busy": "2022-03-22T15:02:05.352374Z",
     "iopub.status.idle": "2022-03-22T15:02:05.406475Z",
     "shell.execute_reply": "2022-03-22T15:02:05.405686Z",
     "shell.execute_reply.started": "2022-03-22T14:59:01.162978Z"
    },
    "papermill": {
     "duration": 0.10592,
     "end_time": "2022-03-22T15:02:05.406638",
     "exception": false,
     "start_time": "2022-03-22T15:02:05.300718",
     "status": "completed"
    },
    "tags": []
   },
   "outputs": [
    {
     "name": "stdout",
     "output_type": "stream",
     "text": [
      "Saved file: Titanic Predictions vc.csv\n"
     ]
    }
   ],
   "source": [
    "prediction_final = vc.predict(valid_scaled)\n",
    "valid2['Survived']=prediction_final\n",
    "valid2['Survived']=valid2['Survived'].astype('int64')\n",
    "valid2=valid2.reset_index()\n",
    "\n",
    "\n",
    "submission = pd.DataFrame({'PassengerId':valid2['PassengerId'],'Survived':valid2['Survived']})\n",
    "\n",
    "#Convert DataFrame to a csv file that can be uploaded\n",
    "#This is saved in the same directory as your notebook\n",
    "filename = 'Titanic Predictions vc.csv'\n",
    "\n",
    "submission.to_csv(filename,index=False)\n",
    "\n",
    "print('Saved file: ' + filename)\n",
    "\n"
   ]
  }
 ],
 "metadata": {
  "kernelspec": {
   "display_name": "Python 3 (ipykernel)",
   "language": "python",
   "name": "python3"
  },
  "language_info": {
   "codemirror_mode": {
    "name": "ipython",
    "version": 3
   },
   "file_extension": ".py",
   "mimetype": "text/x-python",
   "name": "python",
   "nbconvert_exporter": "python",
   "pygments_lexer": "ipython3",
   "version": "3.9.6"
  },
  "papermill": {
   "default_parameters": {},
   "duration": 17.288909,
   "end_time": "2022-03-22T15:02:06.169131",
   "environment_variables": {},
   "exception": null,
   "input_path": "__notebook__.ipynb",
   "output_path": "__notebook__.ipynb",
   "parameters": {},
   "start_time": "2022-03-22T15:01:48.880222",
   "version": "2.3.3"
  }
 },
 "nbformat": 4,
 "nbformat_minor": 5
}
